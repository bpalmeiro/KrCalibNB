{
 "cells": [
  {
   "cell_type": "markdown",
   "metadata": {},
   "source": [
    "# Accelerating krCalib map functions"
   ]
  },
  {
   "cell_type": "markdown",
   "metadata": {},
   "source": [
    "# Author JJGC"
   ]
  },
  {
   "cell_type": "markdown",
   "metadata": {},
   "source": [
    "## The problem \n",
    "\n",
    "- The strategy to compute mpas in KrCalib is to create a dictionary of selections and then operate over this dictionary. Consider for example that one wants to compute XY maps. One needs a matrix of selections. Each element of the matrix corresponds to a bin of X and a bin of Y. \"Selection\" means the events in the dst (a Pandas DataFrame) which have X and Y in that bin. A selection is nothing but a vector of bools, with the same lenght of the DataFrame. The elements which are in the specficic bins correspond to True, the rest to False. Once the matrix of selection is available one can produce lifetime maps (simply fitting an exponential to the events in each bin, using the specific selection).\n",
    "\n",
    "\n",
    "- A study to assess if the slowest krCalib functions can be accelerated\n"
   ]
  },
  {
   "cell_type": "code",
   "execution_count": 1,
   "metadata": {},
   "outputs": [
    {
     "name": "stdout",
     "output_type": "stream",
     "text": [
      "Last updated on  Fri Feb  1 19:56:03 2019\n"
     ]
    }
   ],
   "source": [
    "%load_ext autoreload\n",
    "%autoreload 2\n",
    "import os\n",
    "import sys\n",
    "import time\n",
    "import warnings\n",
    "import datetime \n",
    "print(\"Last updated on \", time.asctime())"
   ]
  },
  {
   "cell_type": "markdown",
   "metadata": {},
   "source": [
    "### Notebook configuration"
   ]
  },
  {
   "cell_type": "code",
   "execution_count": 2,
   "metadata": {},
   "outputs": [],
   "source": [
    "%matplotlib inline\n",
    "import matplotlib.pyplot as plt\n",
    "\n",
    "plt.rcParams[\"figure.figsize\"] = 10, 8\n",
    "plt.rcParams[\"font.size\"     ] = 14"
   ]
  },
  {
   "cell_type": "code",
   "execution_count": 3,
   "metadata": {},
   "outputs": [],
   "source": [
    "import seaborn as sns\n",
    "import numpy as np\n",
    "import pandas as pd\n",
    "import matplotlib\n",
    "import tables            as tb\n",
    "import random\n",
    "import glob\n",
    "import warnings\n",
    "sns.set()"
   ]
  },
  {
   "cell_type": "code",
   "execution_count": 4,
   "metadata": {},
   "outputs": [],
   "source": [
    "from krcal.core.core_functions      import timeit"
   ]
  },
  {
   "cell_type": "code",
   "execution_count": 5,
   "metadata": {},
   "outputs": [],
   "source": [
    "%load_ext cython"
   ]
  },
  {
   "cell_type": "code",
   "execution_count": 34,
   "metadata": {},
   "outputs": [],
   "source": [
    "from krcal.core.kr_types                 import KrEvent\n",
    "from krcal.core.analysis_functions       import kr_event\n",
    "from typing      import List, Tuple, Sequence, Iterable, Dict\n",
    "from   pandas.core.frame import DataFrame"
   ]
  },
  {
   "cell_type": "code",
   "execution_count": 35,
   "metadata": {},
   "outputs": [],
   "source": [
    "import logging\n",
    "log = logging.getLogger()"
   ]
  },
  {
   "cell_type": "code",
   "execution_count": 43,
   "metadata": {},
   "outputs": [],
   "source": [
    "from krcal.core.io_functions                 import filenames_from_list\n",
    "from krcal.core.kr_types                     import KrFileName\n",
    "from  invisible_cities.io.dst_io             import load_dsts\n",
    "from krcal.core.core_functions               import time_delta_from_time\n",
    "from krcal.core.analysis_functions           import kr_ranges_and_bins\n",
    "from krcal.core.analysis_functions           import select_xy_sectors\n",
    "from krcal.core.analysis_functions           import select_xy_sectors_np\n",
    "from krcal.core.analysis_functions           import event_map\n",
    "from   invisible_cities.core.core_functions  import in_range"
   ]
  },
  {
   "cell_type": "code",
   "execution_count": 50,
   "metadata": {},
   "outputs": [],
   "source": [
    "import cProfile"
   ]
  },
  {
   "cell_type": "markdown",
   "metadata": {},
   "source": [
    "## First approach to the problem"
   ]
  },
  {
   "cell_type": "markdown",
   "metadata": {},
   "source": [
    "```\n",
    "\n",
    "def select_xy_sectors(dst        : DataFrame,\n",
    "                      time_diffs : np.array,\n",
    "                      E          : np.array,\n",
    "                      Q          : np.array,\n",
    "                      bins_x     : np.array,\n",
    "                      bins_y     : np.array)-> Dict[int, List[KrEvent]]:\n",
    "    \"\"\"\n",
    "    Return a dict of KrEvent organized by xy sector\n",
    "\n",
    "    Parameters\n",
    "    ----------\n",
    "        dst:\n",
    "        The input data frame.\n",
    "        time_diffs:\n",
    "        An array of time differences needed to compute the time masks.\n",
    "        E:\n",
    "        An energy vector (can contain the corrected energy in the PMTs).\n",
    "        Q:\n",
    "        An energy vector (can contain the corrected energy in the SiPMs).\n",
    "        bins_x:\n",
    "        An array of bins along x.\n",
    "        bins_y:\n",
    "        An array of bins along y.\n",
    "\n",
    "    Returns\n",
    "    -------\n",
    "        A map of selections defined as Dict[int, List[KrEvent]]\n",
    "        where for each x (the key in the dict) one has a list\n",
    "        (corresponding to y cells) of KrEvent (the events selected)\n",
    "\n",
    "    ```\n",
    "\n",
    "- This function takes an input dst (a data frame) and two arrays representing the binning in X and Y (used to form the maps). In addition it takes three additional vectors, E, Q and time_diffs which are used to extend the information of the original dst. The outuput of the function is a dictionary indexed by int (the int counts the bins in X). Each element of the dict is a List (each element of the List corresponds to the bins in Y). The elements of the list are objects of type KrEvent.\n",
    "\n",
    "```\n",
    "@dataclass\n",
    "class KrEvent(Point):\n",
    "    \"\"\"Adds raw energy/time\"\"\"\n",
    "    S2e  : Array\n",
    "    S1e  : Array\n",
    "    S2q  : Array\n",
    "    T    : Array  # time\n",
    "    DT   : Array  # time difference in seconds\n",
    "    E    : Array\n",
    "    Q    : Array\n",
    "```\n",
    "\n",
    "-KrEvent contains enough information to compute maps and store the extra information (e.g, corrected energy E or corrected SiPM energy Q). Being a dataclass is type-friendly. However, the use of such object instead of a dataframe object has a performance penalty.\n",
    "\n"
   ]
  },
  {
   "cell_type": "code",
   "execution_count": 38,
   "metadata": {},
   "outputs": [],
   "source": [
    "def select_xy_sectors(dst        : DataFrame,\n",
    "                      time_diffs : np.array,\n",
    "                      E          : np.array,\n",
    "                      Q          : np.array,\n",
    "                      bins_x     : np.array,\n",
    "                      bins_y     : np.array)-> Dict[int, List[KrEvent]]:\n",
    "    \"\"\"\n",
    "    Return a dict of KrEvent organized by xy sector\n",
    "\n",
    "    Parameters\n",
    "    ----------\n",
    "        dst:\n",
    "        The input data frame.\n",
    "        time_diffs:\n",
    "        An array of time differences needed to compute the time masks.\n",
    "        E:\n",
    "        An energy vector (can contain the corrected energy in the PMTs).\n",
    "        Q:\n",
    "        An energy vector (can contain the corrected energy in the SiPMs).\n",
    "        bins_x:\n",
    "        An array of bins along x.\n",
    "        bins_y:\n",
    "        An array of bins along y.\n",
    "\n",
    "    Returns\n",
    "    -------\n",
    "        A map of selections defined as Dict[int, List[KrEvent]]\n",
    "        where for each x (the key in the dict) one has a list\n",
    "        (corresponding to y cells) of KrEvent (the events selected)\n",
    "\n",
    "    \"\"\"\n",
    "\n",
    "\n",
    "    def selection_mask_xy_sectors(dst     : DataFrame,\n",
    "                                  bins_x  : np.array,\n",
    "                                  bins_y  : np.array)->Dict[int, np.array]:\n",
    "        \"\"\"Returns a dict of selections arranged in a dict of xy bins\"\"\"\n",
    "\n",
    "        MSK = {}\n",
    "        nbins_x = len(bins_x) -1\n",
    "        nbins_y = len(bins_y) -1\n",
    "        for i in range(nbins_x):\n",
    "            logging.debug(f'computing selection mask for sector {i}')\n",
    "\n",
    "            sel_x = in_range(dst.X.values, *bins_x[i: i+2])\n",
    "            MSK[i] = [sel_x & in_range(dst.Y.values, *bins_y[j: j+2]) for j in range(nbins_y) ]\n",
    "\n",
    "        return MSK\n",
    "\n",
    "    logging.debug(f' function: select_xy_sectors')\n",
    "    logging.debug(f' calling selection_mask')\n",
    "\n",
    "    MSK = selection_mask_xy_sectors(dst, bins_x, bins_y)\n",
    "    logging.debug(f' selection mask computed, filling selections')\n",
    "\n",
    "    RGES = {}\n",
    "    for i, msk in MSK.items():\n",
    "        logging.debug(f' defining kr_event for sector {i}')\n",
    "        RGES[i] = [kr_event(dst, time_diffs, E, Q, sel_mask = m) for m in msk]\n",
    "\n",
    "    logging.debug(f' RGES computed')\n",
    "    return RGES\n"
   ]
  },
  {
   "cell_type": "markdown",
   "metadata": {},
   "source": [
    "## Prepare data"
   ]
  },
  {
   "cell_type": "code",
   "execution_count": 39,
   "metadata": {},
   "outputs": [],
   "source": [
    "\n",
    "input_path  = f\"$IC_DATA/dst\"\n",
    "output_path = f\"$IC_DATA/ldst\"\n",
    "map_path    = f\"$IC_DATA/maps\"\n",
    "\n",
    "\n",
    "run_number  = 6817\n",
    "first_file  ='0000'\n",
    "last_file   = 9999\n",
    "input_file_names  = [f'dst_{run_number}_trigger1_{first_file}_{last_file}.h5']\n",
    "\n",
    "time_bins = 10\n",
    "output_file_name  = ' '\n",
    "map_file_name     = ''\n",
    "map_file_name_ts  = ''\n",
    "emap_file_name    = f'kr_emap_xy_100_100_r_{run_number}.h5'\n",
    "\n",
    "\n",
    "krfn = KrFileName(input_file_names,\n",
    "                  output_file_name,\n",
    "                  map_file_name,\n",
    "                  map_file_name_ts,\n",
    "                  emap_file_name)"
   ]
  },
  {
   "cell_type": "code",
   "execution_count": 40,
   "metadata": {},
   "outputs": [
    {
     "name": "stdout",
     "output_type": "stream",
     "text": [
      "Total number of events: 730303\n"
     ]
    },
    {
     "data": {
      "text/plain": [
       "Index(['index', 'event', 'time', 's1_peak', 's2_peak', 'nS1', 'nS2', 'S1w',\n",
       "       'S1h', 'S1e', 'S1t', 'S2w', 'S2h', 'S2e', 'S2q', 'S2t', 'Nsipm', 'DT',\n",
       "       'Z', 'Zrms', 'X', 'Y', 'R', 'Phi', 'Xrms', 'Yrms'],\n",
       "      dtype='object')"
      ]
     },
     "execution_count": 40,
     "metadata": {},
     "output_type": "execute_result"
    }
   ],
   "source": [
    "fn =filenames_from_list(krfn, input_path, output_path, map_path)\n",
    "dst = load_dsts(fn.input_file_names, \"DST\", \"Events\")\n",
    "print(f\"Total number of events: {len(dst)}\")\n",
    "dst.columns"
   ]
  },
  {
   "cell_type": "code",
   "execution_count": 41,
   "metadata": {},
   "outputs": [],
   "source": [
    "RMAX      = 200\n",
    "RFID      = 180\n",
    "RCORE     = 100\n",
    "s1e_range = (1, 25)\n",
    "s2e_range = (1000, 15000)\n",
    "s2w_range =(4, 15)\n",
    "s2q_range = (200, 800)\n",
    "Nsipm_min = 10\n",
    "xy_range  = (-RMAX,  RMAX)\n",
    "z_range   = (10,  550)\n",
    "e_range = (5000, 14000)\n",
    "lt_range = (1000, 7000)\n",
    "c2_range = (0,10)\n",
    "\n",
    "krTimes, krRanges, krNbins, krBins = kr_ranges_and_bins(dst,\n",
    "                                                        xxrange   = xy_range,\n",
    "                                                        yrange    = xy_range,\n",
    "                                                        zrange    = z_range,\n",
    "                                                        s2erange  = s2e_range,\n",
    "                                                        s1erange  = s1e_range,\n",
    "                                                        s2qrange  = s2q_range,\n",
    "                                                        xnbins    = 50,\n",
    "                                                        ynbins    = 50,\n",
    "                                                        znbins    = 15,\n",
    "                                                        s2enbins  = 25,\n",
    "                                                        s1enbins  = 10,\n",
    "                                                        s2qnbins  = 25,\n",
    "                                                        tpsamples = 3600) # tsamples in seconds\n",
    "\n",
    "dst_time = dst.sort_values('time')\n",
    "T       = dst_time.time.values\n",
    "DT      = time_delta_from_time(T)"
   ]
  },
  {
   "cell_type": "markdown",
   "metadata": {},
   "source": [
    "## And now execute function:"
   ]
  },
  {
   "cell_type": "code",
   "execution_count": 44,
   "metadata": {},
   "outputs": [
    {
     "name": "stdout",
     "output_type": "stream",
     "text": [
      " python version = 7.3425798416137695\n"
     ]
    }
   ],
   "source": [
    "t0 = time.time()\n",
    "KXY = select_xy_sectors(dst, DT, dst.S2e.values, dst.S2q.values, krBins.X, krBins.Y)\n",
    "t1 = time.time()\n",
    "print(f' python version = {t1 -t0}')"
   ]
  },
  {
   "cell_type": "code",
   "execution_count": 49,
   "metadata": {},
   "outputs": [
    {
     "name": "stdout",
     "output_type": "stream",
     "text": [
      " KXY has 50 bins in X, 50 bins in Y and the type of the elements is <class 'krcal.core.kr_types.KrEvent'>\n"
     ]
    }
   ],
   "source": [
    "print(f' KXY has {len(KXY)} bins in X, {len(KXY[0])} bins in Y and the type of the elements is {type(KXY[0][0])}')"
   ]
  },
  {
   "cell_type": "code",
   "execution_count": 75,
   "metadata": {},
   "outputs": [],
   "source": [
    "nXY = event_map(KXY)"
   ]
  },
  {
   "cell_type": "code",
   "execution_count": 53,
   "metadata": {},
   "outputs": [
    {
     "data": {
      "image/png": "[encoded data removed]",
      "text/plain": [
       "<Figure size 432x288 with 2 Axes>"
      ]
     },
     "metadata": {},
     "output_type": "display_data"
    }
   ],
   "source": [
    "ax = sns.heatmap(nXY, square=True)"
   ]
  },
  {
   "cell_type": "code",
   "execution_count": null,
   "metadata": {},
   "outputs": [],
   "source": []
  },
  {
   "cell_type": "markdown",
   "metadata": {},
   "source": [
    "#### The function takes a substantial amount of time. Can it be accelerated?"
   ]
  },
  {
   "cell_type": "markdown",
   "metadata": {},
   "source": [
    "## What  to do:\n",
    "\n",
    "- If you want to accelerate/optimze a function, first think what the function does and what the possible bottlenecks.\n",
    "- Profile the function to find out what the actual bottlenecks are.\n",
    "- Thinks if bottlenecks can be fixed using PYTHON solutions (e.g, python fast libraries) first, and only if not, then try alternatives such as cython or numba."
   ]
  },
  {
   "cell_type": "markdown",
   "metadata": {},
   "source": [
    "## What not to do:\n",
    "\n",
    "- Ignore advise above and try the approach of: \"optimize first, think later\"."
   ]
  },
  {
   "cell_type": "markdown",
   "metadata": {},
   "source": [
    "## What I did:\n",
    "- Exactly what I had not to do. Tried to optimize without profiling and without thinking (much)."
   ]
  },
  {
   "cell_type": "markdown",
   "metadata": {},
   "source": [
    "## What catches the eye in function select_xy_sectors()?\n",
    "- The auxiliary function selection_mask_xy_sectors() uses a dict and a dictionary to store a matrix of bools. A possible improvement could be to replace such construct by a fast numpy array of bools. "
   ]
  },
  {
   "cell_type": "code",
   "execution_count": 57,
   "metadata": {},
   "outputs": [],
   "source": [
    "def select_xy_sectors_np(dst, time_diffs, E, Q, bins_x, bins_y):\n",
    "    \"\"\"\n",
    "    Return a dict of KrEvent organized by xy sector\n",
    "    \"\"\"\n",
    "\n",
    "    def selection_mask_xy_sectors_np(values_x, values_y, bins_x,bins_y):\n",
    "        \"\"\"Returns a numpy array of bools\"\"\"\n",
    "        \n",
    "        nbins_x = len(bins_x) -1\n",
    "        nbins_y = len(bins_y) -1\n",
    "        mask = np.empty((nbins_x, nbins_y, len(values_x)), dtype=np.bool)\n",
    "\n",
    "        for i in range(nbins_x):\n",
    "            xvals = bins_x[i: i+2]\n",
    "            sel_x = in_range(values_x, *bins_x[i: i+2])\n",
    "            mask[i, :, :] = [sel_x & in_range(values_y, *bins_y[j: j+2]) for j in range(nbins_y)] \n",
    "    \n",
    "        return mask\n",
    "\n",
    "    MSK = selection_mask_xy_sectors_np(dst.X.values, dst.Y.values, bins_x, bins_y)\n",
    " \n",
    "    RGES = {}\n",
    "    for i in range(len(MSK)):\n",
    "        msk = MSK[i]\n",
    "        RGES[i] = [kr_event(dst, time_diffs, E, Q, sel_mask = m) for m in msk]\n",
    "  \n",
    "    return RGES\n",
    "\n",
    "\n",
    "\n"
   ]
  },
  {
   "cell_type": "markdown",
   "metadata": {},
   "source": [
    "### Does it work better?"
   ]
  },
  {
   "cell_type": "code",
   "execution_count": 59,
   "metadata": {},
   "outputs": [
    {
     "name": "stdout",
     "output_type": "stream",
     "text": [
      " python + np version = 8.199867248535156\n"
     ]
    }
   ],
   "source": [
    "t0 = time.time()\n",
    "KXY2 = select_xy_sectors_np(dst, DT, dst.S2e.values, dst.S2q.values, krBins.X, krBins.Y)\n",
    "t1 = time.time()\n",
    "print(f' python + np version = {t1 -t0}')"
   ]
  },
  {
   "cell_type": "markdown",
   "metadata": {},
   "source": [
    "#### Oooops, it actually takes longer! Here an example where the use of a \"fast\" numpy array is actually slower than the use of two \"slow\" python objects (a dict and a list). "
   ]
  },
  {
   "cell_type": "markdown",
   "metadata": {},
   "source": [
    "### Let's check that the results are the same, anyway"
   ]
  },
  {
   "cell_type": "code",
   "execution_count": 65,
   "metadata": {},
   "outputs": [],
   "source": [
    "def data_frames_are_identical(df1, df2):\n",
    "    df = df1 == df2 # the resulting df is a df of bools.\n",
    "    \n",
    "    # first all() gives a bool per column, creating a Series, seond all() gives a bool for the Series\n",
    "    return df.eq(True).all().all() "
   ]
  },
  {
   "cell_type": "code",
   "execution_count": 76,
   "metadata": {},
   "outputs": [],
   "source": [
    "nXY2 = event_map(KXY2)"
   ]
  },
  {
   "cell_type": "code",
   "execution_count": 77,
   "metadata": {},
   "outputs": [
    {
     "data": {
      "text/plain": [
       "True"
      ]
     },
     "execution_count": 77,
     "metadata": {},
     "output_type": "execute_result"
    }
   ],
   "source": [
    "data_frames_are_identical(nXY, nXY2)"
   ]
  },
  {
   "cell_type": "markdown",
   "metadata": {},
   "source": [
    "## Cython  then?\n",
    "- So, if you consistently ignore the advise: profile!, the next step is to think that maybe cython will solve your problems. Let's try it:"
   ]
  },
  {
   "cell_type": "code",
   "execution_count": 69,
   "metadata": {},
   "outputs": [],
   "source": [
    "%%cython\n",
    "import  numpy as np\n",
    "cimport numpy as np\n",
    "from krcal.core.analysis_functions       import kr_event\n",
    "\n",
    "cdef in_range(np.ndarray[np.float64_t, ndim=1] data, double vmin, double vmax):\n",
    "    return (vmin <= data) & (data < vmax)\n",
    "\n",
    "\n",
    "cdef selection_mask_xy_sectors_np(np.ndarray[np.float64_t, ndim=1] values_x, \n",
    "                                   np.ndarray[np.float64_t, ndim=1] values_y,\n",
    "                                   np.ndarray[np.float64_t, ndim=1] bins_x,\n",
    "                                   np.ndarray[np.float64_t, ndim=1] bins_y):\n",
    "    \"\"\"Returns a dict of selections arranged in a dict of xy bins\"\"\"\n",
    "    \n",
    "  \n",
    "    cdef int nbins_x = len(bins_x) -1\n",
    "    cdef int nbins_y = len(bins_y) -1\n",
    "    cdef size_x = len(values_x)\n",
    "    cdef int i, j\n",
    "    cdef np.ndarray[np.uint8_t, ndim = 3, cast=True] mask\n",
    "    mask = np.empty((nbins_x, nbins_y, size_x), dtype=np.bool)\n",
    "    \n",
    "         \n",
    "\n",
    "    for i in range(nbins_x):\n",
    "        xb = bins_x[i: i+2]\n",
    "        sel_x = in_range(values_x, xb[0], xb[1])\n",
    "        mask[i, :, :] = [sel_x & in_range(values_y, bins_y[j: j+2][0], bins_y[j: j+2][1]) for j in range(nbins_y)] \n",
    "    \n",
    "    return mask\n",
    "\n",
    "\n",
    "    \n",
    "\n",
    "cpdef select_xy_sectors_cy(dst,\n",
    "                           np.ndarray[np.float64_t, ndim=1] time_diffs,\n",
    "                           np.ndarray[np.float64_t, ndim=1] E ,\n",
    "                           np.ndarray[np.float64_t, ndim=1] Q ,\n",
    "                           np.ndarray[np.float64_t, ndim=1] bins_x,\n",
    "                           np.ndarray[np.float64_t, ndim=1] bins_y):\n",
    "    \"\"\"\n",
    "    Return a dict of KrEvent organized by xy sector\n",
    "\n",
    "\n",
    "    \"\"\"\n",
    "\n",
    "    cdef np.ndarray[np.uint8_t, ndim = 3, cast=True] MSK\n",
    "    cdef np.ndarray[np.uint8_t, ndim = 2, cast=True] msk\n",
    "    cdef dict RGES = {}\n",
    "    cdef int i\n",
    "    \n",
    "    MSK = selection_mask_xy_sectors_np(dst.X.values, dst.Y.values, bins_x, bins_y)\n",
    "    cdef int lmsk = len(MSK)\n",
    "    \n",
    "    for i in range(lmsk):\n",
    "        msk = MSK[i]\n",
    "        RGES[i] = [kr_event(dst, time_diffs, E, Q, sel_mask = m)  for m in msk]\n",
    " \n",
    "    return RGES\n",
    "\n"
   ]
  },
  {
   "cell_type": "markdown",
   "metadata": {},
   "source": [
    "### Are we faster now?"
   ]
  },
  {
   "cell_type": "code",
   "execution_count": 70,
   "metadata": {},
   "outputs": [
    {
     "name": "stdout",
     "output_type": "stream",
     "text": [
      " cython + np version = 8.323078155517578\n"
     ]
    }
   ],
   "source": [
    "t0 = time.time()\n",
    "KXY3 = select_xy_sectors_cy(dst, DT, dst.S2e.values, dst.S2q.values, krBins.X, krBins.Y)\n",
    "t1 = time.time()\n",
    "print(f' cython + np version = {t1 -t0}')"
   ]
  },
  {
   "cell_type": "markdown",
   "metadata": {},
   "source": [
    "### cold Turkey!"
   ]
  },
  {
   "cell_type": "code",
   "execution_count": 78,
   "metadata": {},
   "outputs": [
    {
     "data": {
      "text/plain": [
       "True"
      ]
     },
     "execution_count": 78,
     "metadata": {},
     "output_type": "execute_result"
    }
   ],
   "source": [
    "nXY3 = event_map(KXY3)\n",
    "data_frames_are_identical(nXY, nXY3)"
   ]
  },
  {
   "cell_type": "markdown",
   "metadata": {},
   "source": [
    "## When everything else fails... Profile!\n",
    "\n",
    "-Actually you will be much better off it you profile first."
   ]
  },
  {
   "cell_type": "code",
   "execution_count": 79,
   "metadata": {},
   "outputs": [
    {
     "name": "stdout",
     "output_type": "stream",
     "text": [
      "         679325 function calls (669325 primitive calls) in 7.406 seconds\n",
      "\n",
      "   Ordered by: standard name\n",
      "\n",
      "   ncalls  tottime  percall  cumtime  percall filename:lineno(function)\n",
      "        1    0.152    0.152    7.406    7.406 <string>:1(<module>)\n",
      "     2500    0.003    0.000    0.003    0.000 <string>:1(__init__)\n",
      "      104    0.000    0.000    0.000    0.000 __init__.py:1361(debug)\n",
      "      104    0.000    0.000    0.000    0.000 __init__.py:1619(isEnabledFor)\n",
      "      104    0.000    0.000    0.001    0.000 __init__.py:1996(debug)\n",
      "        1    0.000    0.000    7.254    7.254 analysis_functions.py:399(select_xy_sectors)\n",
      "        1    0.001    0.001    3.181    3.181 analysis_functions.py:432(selection_mask_xy_sectors)\n",
      "       50    0.216    0.004    3.117    0.062 analysis_functions.py:444(<listcomp>)\n",
      "       50    0.002    0.000    4.072    0.081 analysis_functions.py:457(<listcomp>)\n",
      "     2500    3.789    0.002    4.070    0.002 analysis_functions.py:81(kr_event)\n",
      "    25052    0.018    0.000    0.061    0.000 base.py:1590(is_object)\n",
      "    50104    0.033    0.000    0.039    0.000 base.py:2033(__contains__)\n",
      "    25052    0.019    0.000    0.105    0.000 base.py:2101(_can_hold_identifiers_and_holds_name)\n",
      "    25052    0.017    0.000    0.021    0.000 common.py:1835(_get_dtype_type)\n",
      "    25052    0.008    0.000    0.011    0.000 common.py:395(_apply_if_callable)\n",
      "    25052    0.018    0.000    0.043    0.000 common.py:89(is_object_dtype)\n",
      "     2550    2.876    0.001    2.876    0.001 core_functions.py:62(in_range)\n",
      "    25052    0.046    0.000    0.113    0.000 frame.py:2664(__getitem__)\n",
      "    25052    0.018    0.000    0.037    0.000 frame.py:2690(_getitem_column)\n",
      "    10000    0.005    0.000    0.017    0.000 frame.py:844(__len__)\n",
      "    25052    0.015    0.000    0.020    0.000 generic.py:2484(_get_item_cache)\n",
      "    25052    0.048    0.000    0.296    0.000 generic.py:4362(__getattr__)\n",
      "    25052    0.013    0.000    0.031    0.000 generic.py:438(_info_axis)\n",
      "    25052    0.005    0.000    0.005    0.000 internals.py:199(external_values)\n",
      "    25052    0.008    0.000    0.008    0.000 internals.py:4684(_block)\n",
      "    25052    0.018    0.000    0.031    0.000 internals.py:4742(external_values)\n",
      "    10000    0.005    0.000    0.008    0.000 range.py:481(__len__)\n",
      "    25052    0.014    0.000    0.046    0.000 series.py:432(values)\n",
      "        1    0.000    0.000    0.000    0.000 typing.py:245(inner)\n",
      "        1    0.000    0.000    0.000    0.000 typing.py:661(__hash__)\n",
      "    25052    0.003    0.000    0.003    0.000 {built-in method builtins.callable}\n",
      "        1    0.000    0.000    7.406    7.406 {built-in method builtins.exec}\n",
      "    25052    0.018    0.000    0.018    0.000 {built-in method builtins.getattr}\n",
      "    50105    0.006    0.000    0.006    0.000 {built-in method builtins.hash}\n",
      "    50104    0.009    0.000    0.009    0.000 {built-in method builtins.isinstance}\n",
      "    25052    0.003    0.000    0.003    0.000 {built-in method builtins.issubclass}\n",
      "40106/30106    0.009    0.000    0.022    0.000 {built-in method builtins.len}\n",
      "    10000    0.003    0.000    0.003    0.000 {built-in method builtins.max}\n",
      "        1    0.000    0.000    0.000    0.000 {method 'disable' of '_lsprof.Profiler' objects}\n",
      "    25052    0.004    0.000    0.004    0.000 {method 'get' of 'dict' objects}\n",
      "        1    0.000    0.000    0.000    0.000 {method 'items' of 'dict' objects}\n",
      "\n",
      "\n"
     ]
    }
   ],
   "source": [
    "cProfile.run('select_xy_sectors(dst, DT, dst.S2e.values, dst.S2q.values, krBins.X, krBins.Y)')"
   ]
  },
  {
   "cell_type": "markdown",
   "metadata": {},
   "source": [
    "### The profile story:\n",
    "\n",
    "- Almost all the time is spent in two functions: kr_event (3.8 s) and in_range (2.9 s), accounting for 6.7 s out of 7.4 s found by the profiler.\n",
    "\n",
    "- The obvious lesson is that the creation of the KrEvent object has a heavy penaly in time. The second lesson is that, when it comes to the creation of selection the bottleneck is the function in_range() and not the handling of lists and dicts. \n",
    "\n",
    "- Not suprsingly our previous attempts have been futile. "
   ]
  },
  {
   "cell_type": "markdown",
   "metadata": {},
   "source": [
    "## How to improve?\n",
    "\n",
    "- First: do we need the KrEvent object? Instead of creating a new object per bin we could simply store a selection of our input data frame (dst) directly. This would save us the penalty of creating the KrEvent. "
   ]
  },
  {
   "cell_type": "markdown",
   "metadata": {},
   "source": [
    "### First version: keep a numpy array for the selection, then keep a dictionary of lists of selections of the input data frame (e.g, avoid creating KrEvent objects)"
   ]
  },
  {
   "cell_type": "code",
   "execution_count": 81,
   "metadata": {},
   "outputs": [],
   "source": [
    "\n",
    "def select_xy_sectors_df_np(dst, time_diffs, E, Q, bins_x, bins_y):\n",
    "    \"\"\"\n",
    "    Return a dict of data frames organized by xy sector\n",
    "\n",
    "\n",
    "    \"\"\"\n",
    "\n",
    "    def selection_mask_xy_sectors_np(values_x, values_y, bins_x,bins_y):\n",
    "        \"\"\"Returns a dict of selections arranged in a dict of xy bins\"\"\"\n",
    "    \n",
    "  \n",
    "        \n",
    "        nbins_x = len(bins_x) -1\n",
    "        nbins_y = len(bins_y) -1\n",
    "        mask = np.empty((nbins_x, nbins_y, len(values_x)), dtype=np.bool)\n",
    "\n",
    "        for i in range(nbins_x):\n",
    "            xvals = bins_x[i: i+2]\n",
    "            sel_x = in_range(values_x, *bins_x[i: i+2])\n",
    "            mask[i, :, :] = [sel_x & in_range(values_y, *bins_y[j: j+2]) for j in range(nbins_y)] \n",
    "    \n",
    "        return mask\n",
    "\n",
    "\n",
    "    RGES = {}\n",
    "    MSK = selection_mask_xy_sectors_np(dst.X.values, dst.Y.values, bins_x, bins_y)\n",
    "    \n",
    "    for i in range(len(MSK)):\n",
    "        msk = MSK[i]\n",
    "        RGES[i] = [dst[m]  for m in msk]\n",
    " \n",
    "    return RGES\n",
    "\n",
    "\n"
   ]
  },
  {
   "cell_type": "code",
   "execution_count": 82,
   "metadata": {},
   "outputs": [
    {
     "name": "stdout",
     "output_type": "stream",
     "text": [
      " df + np version = 6.326003313064575\n"
     ]
    }
   ],
   "source": [
    "t0 = time.time()\n",
    "KXY4 = select_xy_sectors_df_np(dst, DT, dst.S2e.values, dst.S2q.values, krBins.X, krBins.Y)\n",
    "t1 = time.time()\n",
    "print(f' df + np version = {t1 -t0}')"
   ]
  },
  {
   "cell_type": "code",
   "execution_count": 88,
   "metadata": {},
   "outputs": [
    {
     "data": {
      "text/plain": [
       "True"
      ]
     },
     "execution_count": 88,
     "metadata": {},
     "output_type": "execute_result"
    }
   ],
   "source": [
    "nXY4 = event_map(KXY4)\n",
    "data_frames_are_identical(nXY, nXY4)"
   ]
  },
  {
   "cell_type": "markdown",
   "metadata": {},
   "source": [
    "#### We have achieved some improvement by not creating KrEvent objects. What is the bottlneck now?"
   ]
  },
  {
   "cell_type": "code",
   "execution_count": 90,
   "metadata": {
    "scrolled": true
   },
   "outputs": [
    {
     "name": "stdout",
     "output_type": "stream",
     "text": [
      "         1970888 function calls (1950888 primitive calls) in 6.628 seconds\n",
      "\n",
      "   Ordered by: standard name\n",
      "\n",
      "   ncalls  tottime  percall  cumtime  percall filename:lineno(function)\n",
      "    37500    0.029    0.000    0.049    0.000 <frozen importlib._bootstrap>:1009(_handle_fromlist)\n",
      "     5000    0.004    0.000    0.006    0.000 <frozen importlib._bootstrap>:416(parent)\n",
      "        1    1.318    1.318    4.183    4.183 <ipython-input-81-92b7220e68bb>:11(selection_mask_xy_sectors_np)\n",
      "       50    0.206    0.004    2.816    0.056 <ipython-input-81-92b7220e68bb>:23(<listcomp>)\n",
      "       50    0.003    0.000    2.280    0.046 <ipython-input-81-92b7220e68bb>:33(<listcomp>)\n",
      "        1    0.000    0.000    6.464    6.464 <ipython-input-81-92b7220e68bb>:4(select_xy_sectors_df_np)\n",
      "        1    0.164    0.164    6.628    6.628 <string>:1(<module>)\n",
      "     2500    0.002    0.000    0.004    0.000 __init__.py:205(iteritems)\n",
      "    17500    0.007    0.000    0.063    0.000 _methods.py:42(_any)\n",
      "     2500    0.005    0.000    0.069    0.000 algorithms.py:1297(_take_nd_object)\n",
      "    10000    0.016    0.000    0.021    0.000 algorithms.py:1421(_get_take_nd_function)\n",
      "     2500    0.003    0.000    0.072    0.000 algorithms.py:1446(func)\n",
      "    10000    0.124    0.000    1.046    0.000 algorithms.py:1548(take_nd)\n",
      "        4    0.000    0.000    0.000    0.000 base.py:1590(is_object)\n",
      "     2508    0.001    0.000    0.003    0.000 base.py:2033(__contains__)\n",
      "        4    0.000    0.000    0.000    0.000 base.py:2101(_can_hold_identifiers_and_holds_name)\n",
      "     2500    0.006    0.000    0.178    0.000 base.py:2179(take)\n",
      "     2500    0.007    0.000    0.046    0.000 base.py:2445(equals)\n",
      "     2500    0.031    0.000    0.127    0.000 base.py:255(__new__)\n",
      "     2500    0.007    0.000    0.014    0.000 base.py:473(_simple_new)\n",
      "     5000    0.002    0.000    0.003    0.000 base.py:4914(_ensure_index)\n",
      "     2500    0.008    0.000    0.141    0.000 base.py:520(_shallow_copy_with_infer)\n",
      "    48907    0.101    0.000    0.149    0.000 base.py:61(is_dtype)\n",
      "     2500    0.002    0.000    0.002    0.000 base.py:615(is_)\n",
      "     2500    0.001    0.000    0.001    0.000 base.py:635(_reset_identity)\n",
      "    20000    0.007    0.000    0.009    0.000 base.py:641(__len__)\n",
      "     2500    0.001    0.000    0.001    0.000 base.py:662(dtype)\n",
      "     7500    0.008    0.000    0.012    0.000 base.py:672(values)\n",
      "     5000    0.002    0.000    0.009    0.000 base.py:711(get_values)\n",
      "     2500    0.001    0.000    0.002    0.000 base.py:904(_coerce_to_ndarray)\n",
      "     2500    0.002    0.000    0.005    0.000 base.py:920(_get_attributes_dict)\n",
      "     2500    0.002    0.000    0.002    0.000 base.py:922(<dictcomp>)\n",
      "    10000    0.040    0.000    0.294    0.000 cast.py:257(maybe_promote)\n",
      "     2500    0.004    0.000    0.007    0.000 common.py:100(is_bool_indexer)\n",
      "     2969    0.002    0.000    0.016    0.000 common.py:1043(is_datetime64_any_dtype)\n",
      "    12500    0.004    0.000    0.022    0.000 common.py:122(is_sparse)\n",
      "    30000    0.035    0.000    0.135    0.000 common.py:1688(is_extension_array_dtype)\n",
      "    25000    0.013    0.000    0.016    0.000 common.py:1784(_get_dtype)\n",
      "    11411    0.018    0.000    0.025    0.000 common.py:1835(_get_dtype_type)\n",
      "    30000    0.015    0.000    0.187    0.000 common.py:227(is_datetimetz)\n",
      "     2969    0.002    0.000    0.009    0.000 common.py:332(is_datetime64_dtype)\n",
      "    32969    0.015    0.000    0.151    0.000 common.py:369(is_datetime64tz_dtype)\n",
      "     2504    0.001    0.000    0.002    0.000 common.py:395(_apply_if_callable)\n",
      "     2969    0.002    0.000    0.008    0.000 common.py:407(is_timedelta64_dtype)\n",
      "    15000    0.007    0.000    0.036    0.000 common.py:477(is_interval_dtype)\n",
      "     5000    0.002    0.000    0.006    0.000 common.py:513(is_categorical_dtype)\n",
      "    12500    0.010    0.000    0.026    0.000 common.py:692(is_dtype_equal)\n",
      "      469    0.001    0.000    0.001    0.000 common.py:811(is_integer_dtype)\n",
      "     2500    0.003    0.000    0.005    0.000 common.py:858(is_signed_integer_dtype)\n",
      "     2504    0.002    0.000    0.015    0.000 common.py:89(is_object_dtype)\n",
      "     2550    2.659    0.001    2.659    0.001 core_functions.py:62(in_range)\n",
      "     7500    0.012    0.000    0.022    0.000 dtypes.py:401(__new__)\n",
      "     7500    0.011    0.000    0.033    0.000 dtypes.py:459(construct_from_string)\n",
      "    12969    0.017    0.000    0.028    0.000 dtypes.py:707(is_dtype)\n",
      "     2504    0.016    0.000    2.277    0.001 frame.py:2664(__getitem__)\n",
      "        4    0.000    0.000    0.000    0.000 frame.py:2690(_getitem_column)\n",
      "     2500    0.010    0.000    2.251    0.001 frame.py:2707(_getitem_array)\n",
      "     2500    0.001    0.000    0.001    0.000 frame.py:320(_constructor)\n",
      "     2500    0.009    0.000    0.019    0.000 frame.py:334(__init__)\n",
      "     2500    0.006    0.000    0.006    0.000 generic.py:124(__init__)\n",
      "     2500    0.003    0.000    0.003    0.000 generic.py:178(_init_mgr)\n",
      "        4    0.000    0.000    0.000    0.000 generic.py:2484(_get_item_cache)\n",
      "     2500    0.003    0.000    0.005    0.000 generic.py:2603(_set_is_copy)\n",
      "     2500    0.017    0.000    1.801    0.001 generic.py:2783(_take)\n",
      "     2500    0.003    0.000    0.004    0.000 generic.py:364(_get_axis_number)\n",
      "     5000    0.005    0.000    0.006    0.000 generic.py:377(_get_axis_name)\n",
      "     5000    0.003    0.000    0.012    0.000 generic.py:390(_get_axis)\n",
      "     2500    0.002    0.000    0.006    0.000 generic.py:394(_get_block_manager_axis)\n",
      "     2500    0.002    0.000    0.002    0.000 generic.py:4345(__finalize__)\n",
      "        4    0.000    0.000    0.000    0.000 generic.py:4362(__getattr__)\n",
      "     5000    0.005    0.000    0.005    0.000 generic.py:4378(__setattr__)\n",
      "        4    0.000    0.000    0.000    0.000 generic.py:438(_info_axis)\n",
      "     2500    0.003    0.000    0.011    0.000 generic.py:4423(_protect_consolidate)\n",
      "     2500    0.002    0.000    0.013    0.000 generic.py:4433(_consolidate_inplace)\n",
      "     2500    0.003    0.000    0.007    0.000 generic.py:4436(f)\n",
      "   140000    0.042    0.000    0.070    0.000 generic.py:7(_check)\n",
      "     2500    0.002    0.000    0.003    0.000 indexing.py:2321(convert_to_index_sliceable)\n",
      "     2500    0.004    0.000    0.015    0.000 indexing.py:2345(check_bool_indexer)\n",
      "     2500    0.030    0.000    0.049    0.000 indexing.py:2441(maybe_convert_indices)\n",
      "    10000    0.020    0.000    0.037    0.000 internals.py:116(__init__)\n",
      "    10000    0.040    0.000    1.171    0.000 internals.py:1237(take_nd)\n",
      "    10000    0.005    0.000    0.005    0.000 internals.py:127(_check_ndim)\n",
      "        4    0.000    0.000    0.000    0.000 internals.py:199(external_values)\n",
      "    10000    0.004    0.000    0.004    0.000 internals.py:229(fill_value)\n",
      "    40000    0.008    0.000    0.008    0.000 internals.py:233(mgr_locs)\n",
      "    10000    0.005    0.000    0.006    0.000 internals.py:237(mgr_locs)\n",
      "    10000    0.010    0.000    0.060    0.000 internals.py:269(make_block_same_class)\n",
      "    10000    0.013    0.000    0.050    0.000 internals.py:3191(make_block)\n",
      "     2500    0.011    0.000    0.195    0.000 internals.py:3265(__init__)\n",
      "     2500    0.003    0.000    0.005    0.000 internals.py:3266(<listcomp>)\n",
      "    10000    0.017    0.000    0.044    0.000 internals.py:3307(shape)\n",
      "    30000    0.008    0.000    0.028    0.000 internals.py:3309(<genexpr>)\n",
      "    12500    0.004    0.000    0.006    0.000 internals.py:3311(ndim)\n",
      "     2500    0.043    0.000    0.105    0.000 internals.py:3363(_rebuild_blknos_and_blklocs)\n",
      "     2500    0.001    0.000    0.001    0.000 internals.py:3384(_get_items)\n",
      "    10000    0.002    0.000    0.002    0.000 internals.py:348(shape)\n",
      "     2500    0.010    0.000    0.039    0.000 internals.py:3488(_verify_integrity)\n",
      "    12500    0.005    0.000    0.008    0.000 internals.py:3490(<genexpr>)\n",
      "    20000    0.004    0.000    0.004    0.000 internals.py:352(dtype)\n",
      "    10000    0.006    0.000    0.021    0.000 internals.py:356(ftype)\n",
      "     7500    0.002    0.000    0.002    0.000 internals.py:3776(is_consolidated)\n",
      "     2500    0.006    0.000    0.031    0.000 internals.py:3784(_consolidate_check)\n",
      "     2500    0.003    0.000    0.025    0.000 internals.py:3785(<listcomp>)\n",
      "     2500    0.001    0.000    0.002    0.000 internals.py:4085(consolidate)\n",
      "     5000    0.002    0.000    0.004    0.000 internals.py:4101(_consolidate_inplace)\n",
      "     2500    0.012    0.000    1.397    0.001 internals.py:4388(reindex_indexer)\n",
      "     2500    0.012    0.000    1.186    0.000 internals.py:4423(<listcomp>)\n",
      "     2500    0.022    0.000    1.679    0.001 internals.py:4518(take)\n",
      "        4    0.000    0.000    0.000    0.000 internals.py:4684(_block)\n",
      "        4    0.000    0.000    0.000    0.000 internals.py:4742(external_values)\n",
      "     2500    0.004    0.000    0.008    0.000 missing.py:376(array_equivalent)\n",
      "     2500    0.007    0.000    0.030    0.000 numeric.py:35(__new__)\n",
      "    17500    0.007    0.000    0.017    0.000 numeric.py:433(asarray)\n",
      "     2500    0.001    0.000    0.009    0.000 numeric.py:504(asanyarray)\n",
      "     2500    0.005    0.000    0.146    0.000 numeric.py:64(_shallow_copy)\n",
      "     2500    0.006    0.000    0.152    0.000 range.py:260(_shallow_copy)\n",
      "     5000    0.005    0.000    0.008    0.000 range.py:481(__len__)\n",
      "        4    0.000    0.000    0.000    0.000 series.py:432(values)\n",
      "     2500    0.001    0.000    0.001    0.000 {built-in method __new__ of type object at 0x1042636a8}\n",
      "     2504    0.000    0.000    0.000    0.000 {built-in method builtins.callable}\n",
      "        1    0.000    0.000    6.628    6.628 {built-in method builtins.exec}\n",
      "   198911    0.041    0.000    0.041    0.000 {built-in method builtins.getattr}\n",
      "    75000    0.019    0.000    0.019    0.000 {built-in method builtins.hasattr}\n",
      "     2508    0.002    0.000    0.002    0.000 {built-in method builtins.hash}\n",
      "   378291    0.088    0.000    0.158    0.000 {built-in method builtins.isinstance}\n",
      "    56880    0.009    0.000    0.009    0.000 {built-in method builtins.issubclass}\n",
      "     2500    0.001    0.000    0.001    0.000 {built-in method builtins.iter}\n",
      "122504/102504    0.026    0.000    0.041    0.000 {built-in method builtins.len}\n",
      "     5000    0.003    0.000    0.003    0.000 {built-in method builtins.max}\n",
      "     2500    0.003    0.000    0.011    0.000 {built-in method builtins.sum}\n",
      "    10000    0.011    0.000    0.011    0.000 {built-in method numpy.core.multiarray.arange}\n",
      "    20469    0.019    0.000    0.019    0.000 {built-in method numpy.core.multiarray.array}\n",
      "    15001    0.037    0.000    0.037    0.000 {built-in method numpy.core.multiarray.empty}\n",
      "    12500    0.004    0.000    0.004    0.000 {built-in method pandas._libs.algos.ensure_int64}\n",
      "     5000    0.001    0.000    0.001    0.000 {built-in method pandas._libs.algos.ensure_platform_int}\n",
      "    10000    0.002    0.000    0.002    0.000 {built-in method pandas._libs.lib.is_float}\n",
      "     2500    0.000    0.000    0.000    0.000 {built-in method pandas._libs.lib.is_integer}\n",
      "    17500    0.010    0.000    0.073    0.000 {method 'any' of 'numpy.ndarray' objects}\n",
      "        1    0.000    0.000    0.000    0.000 {method 'disable' of '_lsprof.Profiler' objects}\n",
      "     5000    0.003    0.000    0.003    0.000 {method 'fill' of 'numpy.ndarray' objects}\n",
      "    10000    0.014    0.000    0.014    0.000 {method 'format' of 'str' objects}\n",
      "    20004    0.007    0.000    0.007    0.000 {method 'get' of 'dict' objects}\n",
      "     5000    0.001    0.000    0.001    0.000 {method 'items' of 'dict' objects}\n",
      "     2500    0.411    0.000    0.411    0.000 {method 'nonzero' of 'numpy.ndarray' objects}\n",
      "    17500    0.056    0.000    0.056    0.000 {method 'reduce' of 'numpy.ufunc' objects}\n",
      "     5000    0.002    0.000    0.002    0.000 {method 'rpartition' of 'str' objects}\n",
      "     7500    0.009    0.000    0.009    0.000 {method 'search' of 're.Pattern' objects}\n",
      "     2500    0.001    0.000    0.001    0.000 {method 'setdefault' of 'dict' objects}\n",
      "     5000    0.078    0.000    0.078    0.000 {method 'take' of 'numpy.ndarray' objects}\n",
      "     2500    0.001    0.000    0.001    0.000 {method 'update' of 'dict' objects}\n",
      "     7500    0.004    0.000    0.004    0.000 {method 'view' of 'numpy.ndarray' objects}\n",
      "     2500    0.037    0.000    0.037    0.000 {pandas._libs.algos.take_2d_axis0_int32_int32}\n",
      "     2500    0.037    0.000    0.037    0.000 {pandas._libs.algos.take_2d_axis0_int64_int64}\n",
      "     2500    0.252    0.000    0.252    0.000 {pandas._libs.algos.take_2d_axis1_float64_float64}\n",
      "      469    0.001    0.000    0.001    0.000 {pandas._libs.lib.infer_dtype}\n",
      "     5000    0.003    0.000    0.012    0.000 {pandas._libs.lib.values_from_object}\n",
      "\n",
      "\n"
     ]
    }
   ],
   "source": [
    "cProfile.run('select_xy_sectors_df_np(dst, DT, dst.S2e.values, dst.S2q.values, krBins.X, krBins.Y)')"
   ]
  },
  {
   "cell_type": "markdown",
   "metadata": {},
   "source": [
    "#### The bottleneck is in the selection maps. But since we have decided to stick to the Data Frame dst and not to create a new object we can make the selections in the dst itself, aoviding the construction of the big np.array of selections. "
   ]
  },
  {
   "cell_type": "code",
   "execution_count": 92,
   "metadata": {},
   "outputs": [],
   "source": [
    "def select_xy_sectors_df(dst, time_diffs, E, Q, bins_x, bins_y):\n",
    "    \"\"\"\n",
    "    Return a dict of data frames organized by xy sector\n",
    "\n",
    "\n",
    "    \"\"\"\n",
    "\n",
    "    RGES = {}\n",
    "    nbins_x = len(bins_x) -1\n",
    "    nbins_y = len(bins_y) -1\n",
    "\n",
    "    for i in range(nbins_x):\n",
    "        xvals = bins_x[i: i+2]\n",
    "        dstx = dst[in_range(dst.X, *bins_x[i: i+2])]\n",
    "        RGES[i] = [dstx[in_range(dstx.Y, *bins_y[j: j+2])] for j in range(nbins_y)]\n",
    "            \n",
    "    return RGES"
   ]
  },
  {
   "cell_type": "code",
   "execution_count": 93,
   "metadata": {},
   "outputs": [
    {
     "name": "stdout",
     "output_type": "stream",
     "text": [
      " df version = 2.688533067703247\n"
     ]
    }
   ],
   "source": [
    "t0 = time.time()\n",
    "KXY5 = select_xy_sectors_df(dst, DT, dst.S2e.values, dst.S2q.values, krBins.X, krBins.Y)\n",
    "t1 = time.time()\n",
    "print(f' df version = {t1 -t0}')"
   ]
  },
  {
   "cell_type": "markdown",
   "metadata": {},
   "source": [
    "### Bingo. More than a factor two improvement in performance, a more concise code and a simpler concept (avoid the creation of an object that is not strictly necessary, since all the info is in the dst anyway)"
   ]
  },
  {
   "cell_type": "code",
   "execution_count": 89,
   "metadata": {},
   "outputs": [
    {
     "data": {
      "text/plain": [
       "True"
      ]
     },
     "execution_count": 89,
     "metadata": {},
     "output_type": "execute_result"
    }
   ],
   "source": [
    "nXY5 = event_map(KXY5)\n",
    "data_frames_are_identical(nXY, nXY5)"
   ]
  },
  {
   "cell_type": "code",
   "execution_count": 91,
   "metadata": {},
   "outputs": [
    {
     "name": "stdout",
     "output_type": "stream",
     "text": [
      "         5155186 function calls (5092086 primitive calls) in 4.357 seconds\n",
      "\n",
      "   Ordered by: standard name\n",
      "\n",
      "   ncalls  tottime  percall  cumtime  percall filename:lineno(function)\n",
      "    58650    0.043    0.000    0.082    0.000 <frozen importlib._bootstrap>:1009(_handle_fromlist)\n",
      "     5100    0.004    0.000    0.006    0.000 <frozen importlib._bootstrap>:416(parent)\n",
      "       50    0.027    0.001    3.950    0.079 <ipython-input-86-40e162c82f0b>:18(<listcomp>)\n",
      "        1    0.010    0.010    4.339    4.339 <ipython-input-86-40e162c82f0b>:4(select_xy_sectors_df)\n",
      "        1    0.017    0.017    4.356    4.356 <string>:1(<module>)\n",
      "     2550    0.003    0.000    0.004    0.000 __init__.py:205(iteritems)\n",
      "     5100    0.008    0.000    0.343    0.000 _decorators.py:136(wrapper)\n",
      "    17850    0.008    0.000    0.077    0.000 _methods.py:42(_any)\n",
      "    10200    0.005    0.000    0.007    0.000 _validators.py:221(validate_bool_kwarg)\n",
      "     5100    0.011    0.000    0.020    0.000 _validators.py:325(validate_fillna_kwargs)\n",
      "    22950    0.009    0.000    0.021    0.000 abc.py:137(__instancecheck__)\n",
      "     2550    0.005    0.000    0.058    0.000 algorithms.py:1297(_take_nd_object)\n",
      "    10200    0.018    0.000    0.024    0.000 algorithms.py:1421(_get_take_nd_function)\n",
      "     2550    0.003    0.000    0.062    0.000 algorithms.py:1446(func)\n",
      "    10200    0.138    0.000    1.058    0.000 algorithms.py:1548(take_nd)\n",
      "     2552    0.003    0.000    0.007    0.000 base.py:1590(is_object)\n",
      "     7654    0.009    0.000    0.020    0.000 base.py:2033(__contains__)\n",
      "       50    0.000    0.000    0.000    0.000 base.py:2067(__getitem__)\n",
      "     2552    0.003    0.000    0.016    0.000 base.py:2101(_can_hold_identifiers_and_holds_name)\n",
      "     2550    0.007    0.000    0.194    0.000 base.py:2179(take)\n",
      "    10050    0.013    0.000    0.060    0.000 base.py:2445(equals)\n",
      "     2550    0.038    0.000    0.142    0.000 base.py:255(__new__)\n",
      "      100    0.000    0.000    0.000    0.000 base.py:3071(get_loc)\n",
      "     2550    0.008    0.000    0.015    0.000 base.py:473(_simple_new)\n",
      "    23000    0.009    0.000    0.013    0.000 base.py:4914(_ensure_index)\n",
      "     2550    0.010    0.000    0.160    0.000 base.py:520(_shallow_copy_with_infer)\n",
      "   128907    0.090    0.000    0.202    0.000 base.py:61(is_dtype)\n",
      "    10050    0.007    0.000    0.009    0.000 base.py:615(is_)\n",
      "     2550    0.002    0.000    0.002    0.000 base.py:635(_reset_identity)\n",
      "    55400    0.021    0.000    0.029    0.000 base.py:641(__len__)\n",
      "     2550    0.001    0.000    0.001    0.000 base.py:662(dtype)\n",
      "     7650    0.005    0.000    0.010    0.000 base.py:672(values)\n",
      "     5100    0.002    0.000    0.008    0.000 base.py:711(get_values)\n",
      "     5100    0.001    0.000    0.001    0.000 base.py:719(ndim)\n",
      "     2550    0.002    0.000    0.002    0.000 base.py:904(_coerce_to_ndarray)\n",
      "     2550    0.004    0.000    0.007    0.000 base.py:920(_get_attributes_dict)\n",
      "     2550    0.002    0.000    0.003    0.000 base.py:922(<dictcomp>)\n",
      "     5100    0.004    0.000    0.012    0.000 cast.py:1232(construct_1d_ndarray_preserving_na)\n",
      "    10200    0.045    0.000    0.250    0.000 cast.py:257(maybe_promote)\n",
      "     7650    0.009    0.000    0.009    0.000 cast.py:853(maybe_castable)\n",
      "     5100    0.022    0.000    0.072    0.000 cast.py:971(maybe_cast_to_datetime)\n",
      "     2550    0.006    0.000    0.018    0.000 common.py:100(is_bool_indexer)\n",
      "     3019    0.003    0.000    0.017    0.000 common.py:1043(is_datetime64_any_dtype)\n",
      "    15300    0.012    0.000    0.048    0.000 common.py:1170(is_datetime_or_timedelta_dtype)\n",
      "    25550    0.009    0.000    0.052    0.000 common.py:122(is_sparse)\n",
      "     5100    0.007    0.000    0.092    0.000 common.py:1294(is_datetimelike_v_numeric)\n",
      "    15300    0.014    0.000    0.118    0.000 common.py:1405(needs_i8_conversion)\n",
      "     5100    0.004    0.000    0.008    0.000 common.py:1527(is_float_dtype)\n",
      "     5100    0.006    0.000    0.044    0.000 common.py:1629(is_extension_type)\n",
      "    30600    0.040    0.000    0.148    0.000 common.py:1688(is_extension_array_dtype)\n",
      "    25500    0.013    0.000    0.017    0.000 common.py:1784(_get_dtype)\n",
      "    75359    0.079    0.000    0.132    0.000 common.py:1835(_get_dtype_type)\n",
      "     5100    0.003    0.000    0.016    0.000 common.py:195(is_categorical)\n",
      "    10200    0.069    0.000    0.106    0.000 common.py:1965(pandas_dtype)\n",
      "    43350    0.024    0.000    0.164    0.000 common.py:227(is_datetimetz)\n",
      "    18319    0.014    0.000    0.059    0.000 common.py:332(is_datetime64_dtype)\n",
      "    71869    0.034    0.000    0.148    0.000 common.py:369(is_datetime64tz_dtype)\n",
      "     5102    0.002    0.000    0.003    0.000 common.py:395(_apply_if_callable)\n",
      "    13219    0.010    0.000    0.039    0.000 common.py:407(is_timedelta64_dtype)\n",
      "    15300    0.008    0.000    0.038    0.000 common.py:444(is_period_dtype)\n",
      "    15300    0.008    0.000    0.039    0.000 common.py:477(is_interval_dtype)\n",
      "    30600    0.016    0.000    0.083    0.000 common.py:513(is_categorical_dtype)\n",
      "    12750    0.011    0.000    0.028    0.000 common.py:692(is_dtype_equal)\n",
      "     5569    0.004    0.000    0.008    0.000 common.py:811(is_integer_dtype)\n",
      "     2550    0.004    0.000    0.006    0.000 common.py:858(is_signed_integer_dtype)\n",
      "    15302    0.011    0.000    0.035    0.000 common.py:89(is_object_dtype)\n",
      "       50    0.000    0.000    0.000    0.000 concat.py:105(_get_sliced_frame_result_type)\n",
      "     2550    0.025    0.000    2.176    0.001 core_functions.py:62(in_range)\n",
      "    15300    0.010    0.000    0.010    0.000 dtypes.py:266(construct_from_string)\n",
      "    12750    0.023    0.000    0.037    0.000 dtypes.py:401(__new__)\n",
      "    12750    0.021    0.000    0.058    0.000 dtypes.py:459(construct_from_string)\n",
      "    15300    0.017    0.000    0.030    0.000 dtypes.py:584(is_dtype)\n",
      "    13219    0.019    0.000    0.031    0.000 dtypes.py:707(is_dtype)\n",
      "     5102    0.027    0.000    2.099    0.000 frame.py:2664(__getitem__)\n",
      "     2552    0.003    0.000    0.011    0.000 frame.py:2690(_getitem_column)\n",
      "     2550    0.013    0.000    2.037    0.001 frame.py:2707(_getitem_array)\n",
      "       50    0.000    0.000    0.002    0.000 frame.py:3093(_box_item_values)\n",
      "       50    0.000    0.000    0.002    0.000 frame.py:3100(_box_col_values)\n",
      "     2550    0.001    0.000    0.001    0.000 frame.py:320(_constructor)\n",
      "     2550    0.011    0.000    0.022    0.000 frame.py:334(__init__)\n",
      "    20450    0.036    0.000    0.036    0.000 generic.py:124(__init__)\n",
      "     2550    0.003    0.000    0.008    0.000 generic.py:1490(__hash__)\n",
      "     5100    0.005    0.000    0.076    0.000 generic.py:164(_validate_dtype)\n",
      "     2550    0.003    0.000    0.004    0.000 generic.py:178(_init_mgr)\n",
      "     2552    0.003    0.000    0.008    0.000 generic.py:2484(_get_item_cache)\n",
      "       50    0.000    0.000    0.000    0.000 generic.py:2498(_set_as_cached)\n",
      "     2550    0.004    0.000    0.007    0.000 generic.py:2603(_set_is_copy)\n",
      "     2550    0.020    0.000    1.891    0.001 generic.py:2783(_take)\n",
      "     7650    0.009    0.000    0.012    0.000 generic.py:364(_get_axis_number)\n",
      "    10200    0.010    0.000    0.013    0.000 generic.py:377(_get_axis_name)\n",
      "    10200    0.009    0.000    0.027    0.000 generic.py:390(_get_axis)\n",
      "     2550    0.003    0.000    0.007    0.000 generic.py:394(_get_block_manager_axis)\n",
      "    12750    0.017    0.000    0.038    0.000 generic.py:4345(__finalize__)\n",
      "25552/25502    0.030    0.000    0.072    0.000 generic.py:4362(__getattr__)\n",
      "    28200    0.049    0.000    0.108    0.000 generic.py:4378(__setattr__)\n",
      "     2552    0.002    0.000    0.003    0.000 generic.py:438(_info_axis)\n",
      "     7650    0.011    0.000    0.032    0.000 generic.py:4423(_protect_consolidate)\n",
      "     7650    0.006    0.000    0.039    0.000 generic.py:4433(_consolidate_inplace)\n",
      "     7650    0.007    0.000    0.020    0.000 generic.py:4436(f)\n",
      "     5100    0.025    0.000    0.334    0.000 generic.py:4890(astype)\n",
      "     5100    0.048    0.000    0.401    0.000 generic.py:5252(fillna)\n",
      "   221950    0.074    0.000    0.117    0.000 generic.py:7(_check)\n",
      "     2550    0.003    0.000    0.004    0.000 indexing.py:2321(convert_to_index_sliceable)\n",
      "     2550    0.006    0.000    0.054    0.000 indexing.py:2345(check_bool_indexer)\n",
      "     2550    0.034    0.000    0.062    0.000 indexing.py:2441(maybe_convert_indices)\n",
      "    22950    0.011    0.000    0.047    0.000 inference.py:251(is_list_like)\n",
      "     5100    0.002    0.000    0.006    0.000 inference.py:364(is_dict_like)\n",
      "    17900    0.009    0.000    0.012    0.000 inference.py:415(is_hashable)\n",
      "     5100    0.003    0.000    0.003    0.000 inspect.py:72(isclass)\n",
      "    28100    0.058    0.000    0.112    0.000 internals.py:116(__init__)\n",
      "    10200    0.042    0.000    1.191    0.000 internals.py:1237(take_nd)\n",
      "    28100    0.013    0.000    0.013    0.000 internals.py:127(_check_ndim)\n",
      "     5100    0.003    0.000    0.021    0.000 internals.py:184(is_categorical_astype)\n",
      "     5102    0.001    0.000    0.001    0.000 internals.py:199(external_values)\n",
      "     7650    0.004    0.000    0.010    0.000 internals.py:222(to_dense)\n",
      "    10200    0.005    0.000    0.005    0.000 internals.py:229(fill_value)\n",
      "    68900    0.013    0.000    0.013    0.000 internals.py:233(mgr_locs)\n",
      "    28100    0.019    0.000    0.023    0.000 internals.py:237(mgr_locs)\n",
      "    20450    0.025    0.000    0.130    0.000 internals.py:269(make_block_same_class)\n",
      "     7650    0.022    0.000    0.064    0.000 internals.py:3148(get_block_type)\n",
      "    28100    0.040    0.000    0.216    0.000 internals.py:3191(make_block)\n",
      "     2550    0.013    0.000    0.216    0.000 internals.py:3265(__init__)\n",
      "     2550    0.003    0.000    0.006    0.000 internals.py:3266(<listcomp>)\n",
      "    10200    0.019    0.000    0.046    0.000 internals.py:3307(shape)\n",
      "    30600    0.009    0.000    0.027    0.000 internals.py:3309(<genexpr>)\n",
      "    12750    0.005    0.000    0.006    0.000 internals.py:3311(ndim)\n",
      "     2550    0.048    0.000    0.115    0.000 internals.py:3363(_rebuild_blknos_and_blklocs)\n",
      "     5200    0.002    0.000    0.002    0.000 internals.py:3384(_get_items)\n",
      "     2550    0.002    0.000    0.005    0.000 internals.py:3473(__len__)\n",
      "    10200    0.003    0.000    0.003    0.000 internals.py:348(shape)\n",
      "     2550    0.012    0.000    0.043    0.000 internals.py:3488(_verify_integrity)\n",
      "    12750    0.006    0.000    0.009    0.000 internals.py:3490(<genexpr>)\n",
      "    10200    0.069    0.000    0.313    0.000 internals.py:3500(apply)\n",
      "    56100    0.014    0.000    0.014    0.000 internals.py:352(dtype)\n",
      "    10200    0.007    0.000    0.023    0.000 internals.py:356(ftype)\n",
      "    10200    0.004    0.000    0.006    0.000 internals.py:3561(<genexpr>)\n",
      "     5100    0.009    0.000    0.149    0.000 internals.py:3707(fillna)\n",
      "     5100    0.010    0.000    0.183    0.000 internals.py:3713(astype)\n",
      "       50    0.000    0.000    0.000    0.000 internals.py:372(iget)\n",
      "     7650    0.003    0.000    0.003    0.000 internals.py:3776(is_consolidated)\n",
      "     2550    0.007    0.000    0.035    0.000 internals.py:3784(_consolidate_check)\n",
      "     2550    0.004    0.000    0.027    0.000 internals.py:3785(<listcomp>)\n",
      "     5100    0.006    0.000    0.069    0.000 internals.py:404(fillna)\n",
      "     7650    0.004    0.000    0.006    0.000 internals.py:4085(consolidate)\n",
      "     5100    0.002    0.000    0.004    0.000 internals.py:4101(_consolidate_inplace)\n",
      "       50    0.000    0.000    0.002    0.000 internals.py:4108(get)\n",
      "       50    0.000    0.000    0.001    0.000 internals.py:4137(iget)\n",
      "     2550    0.011    0.000    1.440    0.001 internals.py:4388(reindex_indexer)\n",
      "     2550    0.013    0.000    1.209    0.000 internals.py:4423(<listcomp>)\n",
      "     2550    0.027    0.000    1.757    0.001 internals.py:4518(take)\n",
      "    17900    0.043    0.000    0.178    0.000 internals.py:4639(__init__)\n",
      "    43352    0.010    0.000    0.010    0.000 internals.py:4684(_block)\n",
      "    10200    0.003    0.000    0.003    0.000 internals.py:4709(index)\n",
      "    30600    0.019    0.000    0.034    0.000 internals.py:4718(dtype)\n",
      "     5102    0.004    0.000    0.006    0.000 internals.py:4742(external_values)\n",
      "     7650    0.010    0.000    0.025    0.000 internals.py:4752(get_values)\n",
      "     5100    0.001    0.000    0.001    0.000 internals.py:4768(is_consolidated)\n",
      "    20400    0.003    0.000    0.003    0.000 internals.py:4774(_consolidate_inplace)\n",
      "    10200    0.010    0.000    0.015    0.000 internals.py:5101(_extend_blocks)\n",
      "     5100    0.008    0.000    0.111    0.000 internals.py:573(astype)\n",
      "     5100    0.018    0.000    0.102    0.000 internals.py:577(_astype)\n",
      "    10200    0.010    0.000    0.118    0.000 internals.py:774(copy)\n",
      "     5150    0.005    0.000    0.008    0.000 missing.py:112(_isna_new)\n",
      "     5150    0.003    0.000    0.011    0.000 missing.py:32(isna)\n",
      "     2550    0.004    0.000    0.008    0.000 missing.py:376(array_equivalent)\n",
      "    17900    0.003    0.000    0.003    0.000 numeric.py:110(is_all_dates)\n",
      "    20400    0.037    0.000    0.086    0.000 numeric.py:2491(seterr)\n",
      "    20400    0.030    0.000    0.033    0.000 numeric.py:2592(geterr)\n",
      "    10200    0.008    0.000    0.011    0.000 numeric.py:2887(__init__)\n",
      "    10200    0.011    0.000    0.063    0.000 numeric.py:2891(__enter__)\n",
      "    10200    0.009    0.000    0.044    0.000 numeric.py:2896(__exit__)\n",
      "     2550    0.008    0.000    0.034    0.000 numeric.py:35(__new__)\n",
      "    17850    0.008    0.000    0.050    0.000 numeric.py:433(asarray)\n",
      "     2550    0.001    0.000    0.010    0.000 numeric.py:504(asanyarray)\n",
      "     2550    0.005    0.000    0.165    0.000 numeric.py:64(_shallow_copy)\n",
      "     5100    0.128    0.000    0.327    0.000 ops.py:1134(na_op)\n",
      "     5100    0.064    0.000    1.159    0.000 ops.py:1178(wrapper)\n",
      "     2550    0.002    0.000    0.017    0.000 ops.py:1302(na_op)\n",
      "     5100    0.019    0.000    0.780    0.000 ops.py:1331(<lambda>)\n",
      "     2550    0.021    0.000    0.992    0.000 ops.py:1333(wrapper)\n",
      "     7650    0.009    0.000    0.027    0.000 ops.py:50(get_op_result_name)\n",
      "     2550    0.003    0.000    0.008    0.000 ops.py:73(_maybe_match_name)\n",
      "     2550    0.004    0.000    0.012    0.000 ops.py:953(_align_method_SERIES)\n",
      "       50    0.000    0.000    0.004    0.000 range.py:260(_shallow_copy)\n",
      "      150    0.000    0.000    0.001    0.000 range.py:315(equals)\n",
      "     1000    0.001    0.000    0.001    0.000 range.py:481(__len__)\n",
      "    17900    0.111    0.000    0.817    0.000 series.py:166(__init__)\n",
      "     5100    0.017    0.000    0.418    0.000 series.py:3418(fillna)\n",
      "    17850    0.004    0.000    0.004    0.000 series.py:349(_constructor)\n",
      "    17900    0.022    0.000    0.037    0.000 series.py:365(_set_axis)\n",
      "    17900    0.011    0.000    0.011    0.000 series.py:391(_set_subtyp)\n",
      "    45950    0.030    0.000    0.048    0.000 series.py:401(name)\n",
      "     7650    0.035    0.000    0.254    0.000 series.py:4019(_sanitize_array)\n",
      "     7650    0.015    0.000    0.159    0.000 series.py:4036(_try_cast)\n",
      "    28100    0.018    0.000    0.030    0.000 series.py:405(name)\n",
      "    30600    0.017    0.000    0.051    0.000 series.py:412(dtype)\n",
      "     5102    0.003    0.000    0.009    0.000 series.py:432(values)\n",
      "     7650    0.005    0.000    0.029    0.000 series.py:476(get_values)\n",
      "     2550    0.001    0.000    0.008    0.000 series.py:562(__len__)\n",
      "     2550    0.001    0.000    0.011    0.000 series.py:637(__array__)\n",
      "     2550    0.001    0.000    0.001    0.000 {built-in method __new__ of type object at 0x1042636a8}\n",
      "    22950    0.012    0.000    0.012    0.000 {built-in method _abc._abc_instancecheck}\n",
      "     2550    0.016    0.000    0.016    0.000 {built-in method _operator.and_}\n",
      "     5102    0.001    0.000    0.001    0.000 {built-in method builtins.callable}\n",
      "        1    0.000    0.000    4.357    4.357 {built-in method builtins.exec}\n",
      "   409359    0.096    0.000    0.117    0.000 {built-in method builtins.getattr}\n",
      "   127500    0.047    0.000    0.048    0.000 {built-in method builtins.hasattr}\n",
      "    25554    0.006    0.000    0.014    0.000 {built-in method builtins.hash}\n",
      "  1179337    0.240    0.000    0.378    0.000 {built-in method builtins.isinstance}\n",
      "   172728    0.025    0.000    0.025    0.000 {built-in method builtins.issubclass}\n",
      "     2550    0.001    0.000    0.001    0.000 {built-in method builtins.iter}\n",
      "295652/235152    0.065    0.000    0.091    0.000 {built-in method builtins.len}\n",
      "     1000    0.000    0.000    0.000    0.000 {built-in method builtins.max}\n",
      "     2550    0.003    0.000    0.013    0.000 {built-in method builtins.sum}\n",
      "    10200    0.013    0.000    0.013    0.000 {built-in method numpy.core.multiarray.arange}\n",
      "38719/36169    0.049    0.000    0.064    0.000 {built-in method numpy.core.multiarray.array}\n",
      "    15300    0.040    0.000    0.040    0.000 {built-in method numpy.core.multiarray.empty}\n",
      "    40800    0.008    0.000    0.008    0.000 {built-in method numpy.core.umath.geterrobj}\n",
      "    20400    0.012    0.000    0.012    0.000 {built-in method numpy.core.umath.seterrobj}\n",
      "    12750    0.005    0.000    0.005    0.000 {built-in method pandas._libs.algos.ensure_int64}\n",
      "     5100    0.001    0.000    0.001    0.000 {built-in method pandas._libs.algos.ensure_platform_int}\n",
      "    10200    0.002    0.000    0.002    0.000 {built-in method pandas._libs.lib.is_bool}\n",
      "    10200    0.002    0.000    0.002    0.000 {built-in method pandas._libs.lib.is_float}\n",
      "     7650    0.001    0.000    0.001    0.000 {built-in method pandas._libs.lib.is_integer}\n",
      "    20500    0.014    0.000    0.014    0.000 {built-in method pandas._libs.lib.is_scalar}\n",
      "     5150    0.003    0.000    0.003    0.000 {built-in method pandas._libs.missing.checknull}\n",
      "    17850    0.012    0.000    0.089    0.000 {method 'any' of 'numpy.ndarray' objects}\n",
      "    10200    0.002    0.000    0.002    0.000 {method 'append' of 'list' objects}\n",
      "    10200    0.043    0.000    0.043    0.000 {method 'copy' of 'numpy.ndarray' objects}\n",
      "        1    0.000    0.000    0.000    0.000 {method 'disable' of '_lsprof.Profiler' objects}\n",
      "     5100    0.003    0.000    0.003    0.000 {method 'fill' of 'numpy.ndarray' objects}\n",
      "    12750    0.019    0.000    0.019    0.000 {method 'format' of 'str' objects}\n",
      "    33152    0.010    0.000    0.010    0.000 {method 'get' of 'dict' objects}\n",
      "      100    0.000    0.000    0.000    0.000 {method 'get_loc' of 'pandas._libs.index.IndexEngine' objects}\n",
      "     5100    0.001    0.000    0.001    0.000 {method 'items' of 'dict' objects}\n",
      "     2550    0.044    0.000    0.044    0.000 {method 'nonzero' of 'numpy.ndarray' objects}\n",
      "    15300    0.004    0.000    0.004    0.000 {method 'pop' of 'dict' objects}\n",
      "    17850    0.068    0.000    0.068    0.000 {method 'reduce' of 'numpy.ufunc' objects}\n",
      "     5100    0.002    0.000    0.002    0.000 {method 'rpartition' of 'str' objects}\n",
      "    12750    0.013    0.000    0.013    0.000 {method 'search' of 're.Pattern' objects}\n",
      "       50    0.000    0.000    0.000    0.000 {method 'setdefault' of 'dict' objects}\n",
      "    20400    0.006    0.000    0.006    0.000 {method 'startswith' of 'str' objects}\n",
      "     5100    0.070    0.000    0.070    0.000 {method 'take' of 'numpy.ndarray' objects}\n",
      "     2550    0.001    0.000    0.001    0.000 {method 'update' of 'dict' objects}\n",
      "    15300    0.011    0.000    0.011    0.000 {method 'view' of 'numpy.ndarray' objects}\n",
      "     2550    0.038    0.000    0.038    0.000 {pandas._libs.algos.take_2d_axis0_int32_int32}\n",
      "     2550    0.040    0.000    0.040    0.000 {pandas._libs.algos.take_2d_axis0_int64_int64}\n",
      "     2550    0.277    0.000    0.277    0.000 {pandas._libs.algos.take_2d_axis1_float64_float64}\n",
      "      469    0.001    0.000    0.001    0.000 {pandas._libs.lib.infer_dtype}\n",
      "    10200    0.007    0.000    0.015    0.000 {pandas._libs.lib.values_from_object}\n",
      "\n",
      "\n"
     ]
    }
   ],
   "source": [
    "cProfile.run('select_xy_sectors_df(dst, DT, dst.S2e.values, dst.S2q.values, krBins.X, krBins.Y)')"
   ]
  },
  {
   "cell_type": "markdown",
   "metadata": {},
   "source": [
    "#### All the time is now consumed by PANDAS operations. Since the PANDAS library is fast (and cannot be accelerated by cython or numba since its underlying functions are written in C etc), we can conclude that we have optimized the function. "
   ]
  },
  {
   "cell_type": "markdown",
   "metadata": {},
   "source": [
    "## Simplifying the function.\n",
    "- But notice that we are now passing three vectors to the function that we are not using. Those vectors were added to the KrEvent object. We can choose to add them to the dataFrame dst *before* the selection, or use other solutions. However, what is clear is that the function select_xy_sectors() should do only what it advertises, that is select the sectors (not adding extra variables, etc). Thus, final version:"
   ]
  },
  {
   "cell_type": "code",
   "execution_count": 95,
   "metadata": {},
   "outputs": [],
   "source": [
    "def select_xy_sectors_dst(dst : DataFrame, bins_x : np.array, bins_y : np.array)->Dict[int, List[DataFrame]]:\n",
    "    \"\"\"\n",
    "    Return a dict of data frames organized by xy sector\n",
    "\n",
    "    \"\"\"\n",
    "\n",
    "    RGES = {}\n",
    "    nbins_x = len(bins_x) -1\n",
    "    nbins_y = len(bins_y) -1\n",
    "\n",
    "    for i in range(nbins_x):\n",
    "        xvals = bins_x[i: i+2]\n",
    "        dstx = dst[in_range(dst.X, *bins_x[i: i+2])]\n",
    "        RGES[i] = [dstx[in_range(dstx.Y, *bins_y[j: j+2])] for j in range(nbins_y)]\n",
    "            \n",
    "    return RGES"
   ]
  },
  {
   "cell_type": "code",
   "execution_count": 96,
   "metadata": {},
   "outputs": [
    {
     "name": "stdout",
     "output_type": "stream",
     "text": [
      " df version = 2.5888450145721436\n"
     ]
    }
   ],
   "source": [
    "t0 = time.time()\n",
    "KXY6 = select_xy_sectors_dst(dst, krBins.X, krBins.Y)\n",
    "t1 = time.time()\n",
    "print(f' df version = {t1 -t0}')"
   ]
  },
  {
   "cell_type": "code",
   "execution_count": 97,
   "metadata": {},
   "outputs": [
    {
     "data": {
      "text/plain": [
       "True"
      ]
     },
     "execution_count": 97,
     "metadata": {},
     "output_type": "execute_result"
    }
   ],
   "source": [
    "nXY6 = event_map(KXY6)\n",
    "data_frames_are_identical(nXY, nXY6)"
   ]
  },
  {
   "cell_type": "markdown",
   "metadata": {},
   "source": [
    "## END"
   ]
  }
 ],
 "metadata": {
  "kernelspec": {
   "display_name": "Python 3",
   "language": "python",
   "name": "python3"
  },
  "language_info": {
   "codemirror_mode": {
    "name": "ipython",
    "version": 3
   },
   "file_extension": ".py",
   "mimetype": "text/x-python",
   "name": "python",
   "nbconvert_exporter": "python",
   "pygments_lexer": "ipython3",
   "version": "3.7.1"
  }
 },
 "nbformat": 4,
 "nbformat_minor": 2
}
