{
 "cells": [
  {
   "cell_type": "markdown",
   "metadata": {},
   "source": [
    "# Tests for maps"
   ]
  },
  {
   "cell_type": "markdown",
   "metadata": {},
   "source": [
    "# Author JJGC"
   ]
  },
  {
   "cell_type": "markdown",
   "metadata": {},
   "source": [
    "## ilustration of tests for maps functions"
   ]
  },
  {
   "cell_type": "code",
   "execution_count": 85,
   "metadata": {},
   "outputs": [
    {
     "name": "stdout",
     "output_type": "stream",
     "text": [
      "The autoreload extension is already loaded. To reload it, use:\n",
      "  %reload_ext autoreload\n",
      "Last updated on  Fri Feb 15 14:10:01 2019\n"
     ]
    }
   ],
   "source": [
    "%load_ext autoreload\n",
    "%autoreload 2\n",
    "import os\n",
    "import sys\n",
    "import time\n",
    "import warnings\n",
    "import datetime \n",
    "print(\"Last updated on \", time.asctime())"
   ]
  },
  {
   "cell_type": "markdown",
   "metadata": {},
   "source": [
    "### Notebook configuration"
   ]
  },
  {
   "cell_type": "code",
   "execution_count": 86,
   "metadata": {},
   "outputs": [],
   "source": [
    "%matplotlib inline\n",
    "import matplotlib.pyplot as plt\n",
    "\n",
    "plt.rcParams[\"figure.figsize\"] = 10, 8\n",
    "plt.rcParams[\"font.size\"     ] = 14"
   ]
  },
  {
   "cell_type": "code",
   "execution_count": 87,
   "metadata": {},
   "outputs": [],
   "source": [
    "import seaborn as sns\n",
    "import numpy as np\n",
    "import pandas as pd\n",
    "import matplotlib\n",
    "import tables            as tb\n",
    "import random\n",
    "import glob\n",
    "import warnings\n",
    "sns.set()"
   ]
  },
  {
   "cell_type": "code",
   "execution_count": 88,
   "metadata": {},
   "outputs": [],
   "source": [
    "from krcal.core.core_functions      import timeit"
   ]
  },
  {
   "cell_type": "code",
   "execution_count": 89,
   "metadata": {},
   "outputs": [],
   "source": [
    "from krcal.core.kr_types                 import KrEvent\n",
    "from krcal.core.analysis_functions       import kr_event\n",
    "from typing      import List, Tuple, Sequence, Iterable, Dict\n",
    "from   pandas.core.frame import DataFrame"
   ]
  },
  {
   "cell_type": "code",
   "execution_count": 90,
   "metadata": {},
   "outputs": [],
   "source": [
    "import logging\n",
    "log = logging.getLogger()"
   ]
  },
  {
   "cell_type": "code",
   "execution_count": 317,
   "metadata": {},
   "outputs": [],
   "source": [
    "from krcal.core.io_functions                 import filenames_from_list\n",
    "from krcal.core.core_functions               import phirad_to_deg\n",
    "from krcal.core.kr_types                     import Number\n",
    "from krcal.core.kr_types                     import KrFileName\n",
    "from  invisible_cities.io.dst_io             import load_dsts\n",
    "from krcal.core.core_functions               import time_delta_from_time\n",
    "from krcal.core.core_functions               import data_frames_are_identical\n",
    "from krcal.core.analysis_functions           import kr_ranges_and_bins\n",
    "from krcal.core.analysis_functions           import select_xy_sectors\n",
    "from krcal.core.fit_lt_functions             import get_time_series\n",
    "from krcal.core.analysis_functions           import event_map\n",
    "from invisible_cities.core.core_functions    import in_range\n",
    "from krcal.core.core_functions               import time_delta_from_time\n",
    "from invisible_cities.icaro. hst_functions   import shift_to_bin_centers"
   ]
  },
  {
   "cell_type": "code",
   "execution_count": 301,
   "metadata": {},
   "outputs": [],
   "source": [
    "from krcal.core.rphi_maps_functions          import rphi_sector_map_def\n",
    "from krcal.core.rphi_maps_functions          import define_rphi_sectors\n",
    "from krcal.core.rphi_maps_functions          import draw_wedges"
   ]
  },
  {
   "cell_type": "code",
   "execution_count": 92,
   "metadata": {},
   "outputs": [],
   "source": [
    "import cProfile"
   ]
  },
  {
   "cell_type": "code",
   "execution_count": 93,
   "metadata": {},
   "outputs": [],
   "source": [
    "import logging\n",
    "log = logging.getLogger()"
   ]
  },
  {
   "cell_type": "code",
   "execution_count": 271,
   "metadata": {},
   "outputs": [],
   "source": [
    "from numpy import pi"
   ]
  },
  {
   "cell_type": "code",
   "execution_count": 304,
   "metadata": {},
   "outputs": [],
   "source": [
    "from krcal.core.selection_functions          import select_xy_sectors_df\n",
    "from krcal.core.selection_functions          import select_rphi_sectors_df\n",
    "from krcal.core.selection_functions          import get_time_series_df\n",
    "from krcal.core.selection_functions          import event_map_df"
   ]
  },
  {
   "cell_type": "markdown",
   "metadata": {},
   "source": [
    "## Prepare data"
   ]
  },
  {
   "cell_type": "code",
   "execution_count": 274,
   "metadata": {},
   "outputs": [],
   "source": [
    "D = {}\n",
    "D['X']      = np.random.uniform(low=-200, high=200, size=20)\n",
    "D['Y']      = np.random.uniform(low=-200, high=200, size=20)\n",
    "D['Z']      = np.random.uniform(low=0, high=500, size=20)\n",
    "D['R']      = np.random.uniform(low=0, high=200, size=20)\n",
    "D['Phi']    = np.random.uniform(low=-pi, high=pi, size=20)\n",
    "D['S2e']    = np.random.uniform(low=5000, high=10000, size=20)\n",
    "D['S1e']    = np.random.uniform(low=0, high=10, size=20)\n",
    "D['S2q']    = np.random.uniform(low=0, high=100, size=20)\n",
    "D['time']   = np.arange(0,100,5)\n",
    "dst0         = pd.DataFrame.from_dict(D)"
   ]
  },
  {
   "cell_type": "code",
   "execution_count": 275,
   "metadata": {},
   "outputs": [
    {
     "name": "stdout",
     "output_type": "stream",
     "text": [
      "             X           Y           Z           R       Phi          S2e  \\\n",
      "0    71.812019  -42.452912  308.580011  193.214689 -2.414363  6796.906561   \n",
      "1   121.184480  136.445466  216.992253   89.131817 -1.186726  5864.588246   \n",
      "2    27.623348 -164.951540   32.995226   96.817558 -1.021389  8071.294810   \n",
      "3   101.971148  -82.100068  226.240311  151.291569  0.743287  7551.659687   \n",
      "4   132.055092 -166.028793  291.938796   54.133194 -2.396242  6501.295561   \n",
      "5   170.301807  -25.730063  332.929736  128.123209 -2.147433  6117.319226   \n",
      "6   154.782312  141.407678  362.372189   45.280288  1.899512  9862.477012   \n",
      "7    70.577616   21.147776  245.490635  169.741147  1.633419  5951.979248   \n",
      "8   -58.525105 -121.989988  484.229713  155.323782 -2.535831  6497.732366   \n",
      "9  -125.873172  -32.678165   58.819241   40.909191  0.794449  7926.165196   \n",
      "10 -131.359283  -44.355435  271.521157  190.460580 -2.401494  9217.267882   \n",
      "11    0.364440   66.470231  441.110753   97.760119 -2.033681  9948.109751   \n",
      "12   40.170848 -123.465755  475.428668  109.342534  2.871325  6043.203938   \n",
      "13  178.594654  101.976173  418.555415  159.437771  1.540454  9365.018367   \n",
      "14 -178.950340  129.574146  451.940681   64.648819  0.399447  5083.401631   \n",
      "15  189.957394   90.234472  357.905237  166.133087  2.596590  9706.523252   \n",
      "16  -55.261638  162.559231  469.232165  181.306661  0.298750  8998.565850   \n",
      "17   28.914762   -4.282056  377.493642  166.625491  0.755598  8110.500650   \n",
      "18 -136.054490  173.244842  276.519687   32.108858  3.096472  8072.099927   \n",
      "19  -95.785484  195.084051  385.497070  192.674842  0.446591  5401.154423   \n",
      "\n",
      "         S1e        S2q  time  \n",
      "0   8.292351  52.125915     0  \n",
      "1   8.474599  72.088111     5  \n",
      "2   1.283923  50.074229    10  \n",
      "3   6.776762  99.354912    15  \n",
      "4   1.182190   7.246510    20  \n",
      "5   2.430280  38.101958    25  \n",
      "6   2.596920  18.501735    30  \n",
      "7   8.425470   0.399434    35  \n",
      "8   4.723558  41.829815    40  \n",
      "9   9.471552  15.204447    45  \n",
      "10  9.006525  37.499484    50  \n",
      "11  0.508738  59.999214    55  \n",
      "12  9.009336  14.538249    60  \n",
      "13  6.964804  16.987444    65  \n",
      "14  5.182649  29.338727    70  \n",
      "15  0.438424  81.462644    75  \n",
      "16  1.215727  61.278748    80  \n",
      "17  8.352950  47.795704    85  \n",
      "18  6.383622  97.117442    90  \n",
      "19  1.827275  39.583611    95  \n"
     ]
    }
   ],
   "source": [
    "print(dst0)"
   ]
  },
  {
   "cell_type": "code",
   "execution_count": 310,
   "metadata": {},
   "outputs": [
    {
     "data": {
      "text/plain": [
       "Index(['X', 'Y', 'Z', 'R', 'Phi', 'S2e', 'S1e', 'S2q', 'time'], dtype='object')"
      ]
     },
     "execution_count": 310,
     "metadata": {},
     "output_type": "execute_result"
    }
   ],
   "source": [
    "dst0.columns"
   ]
  },
  {
   "cell_type": "markdown",
   "metadata": {},
   "source": [
    "### Sort data frame in terms of time"
   ]
  },
  {
   "cell_type": "code",
   "execution_count": 311,
   "metadata": {},
   "outputs": [
    {
     "name": "stdout",
     "output_type": "stream",
     "text": [
      "             X           Y           Z           R       Phi          S2e  \\\n",
      "0    71.812019  -42.452912  308.580011  193.214689 -2.414363  6796.906561   \n",
      "1   121.184480  136.445466  216.992253   89.131817 -1.186726  5864.588246   \n",
      "2    27.623348 -164.951540   32.995226   96.817558 -1.021389  8071.294810   \n",
      "3   101.971148  -82.100068  226.240311  151.291569  0.743287  7551.659687   \n",
      "4   132.055092 -166.028793  291.938796   54.133194 -2.396242  6501.295561   \n",
      "5   170.301807  -25.730063  332.929736  128.123209 -2.147433  6117.319226   \n",
      "6   154.782312  141.407678  362.372189   45.280288  1.899512  9862.477012   \n",
      "7    70.577616   21.147776  245.490635  169.741147  1.633419  5951.979248   \n",
      "8   -58.525105 -121.989988  484.229713  155.323782 -2.535831  6497.732366   \n",
      "9  -125.873172  -32.678165   58.819241   40.909191  0.794449  7926.165196   \n",
      "10 -131.359283  -44.355435  271.521157  190.460580 -2.401494  9217.267882   \n",
      "11    0.364440   66.470231  441.110753   97.760119 -2.033681  9948.109751   \n",
      "12   40.170848 -123.465755  475.428668  109.342534  2.871325  6043.203938   \n",
      "13  178.594654  101.976173  418.555415  159.437771  1.540454  9365.018367   \n",
      "14 -178.950340  129.574146  451.940681   64.648819  0.399447  5083.401631   \n",
      "15  189.957394   90.234472  357.905237  166.133087  2.596590  9706.523252   \n",
      "16  -55.261638  162.559231  469.232165  181.306661  0.298750  8998.565850   \n",
      "17   28.914762   -4.282056  377.493642  166.625491  0.755598  8110.500650   \n",
      "18 -136.054490  173.244842  276.519687   32.108858  3.096472  8072.099927   \n",
      "19  -95.785484  195.084051  385.497070  192.674842  0.446591  5401.154423   \n",
      "\n",
      "         S1e        S2q  time  \n",
      "0   8.292351  52.125915     0  \n",
      "1   8.474599  72.088111     5  \n",
      "2   1.283923  50.074229    10  \n",
      "3   6.776762  99.354912    15  \n",
      "4   1.182190   7.246510    20  \n",
      "5   2.430280  38.101958    25  \n",
      "6   2.596920  18.501735    30  \n",
      "7   8.425470   0.399434    35  \n",
      "8   4.723558  41.829815    40  \n",
      "9   9.471552  15.204447    45  \n",
      "10  9.006525  37.499484    50  \n",
      "11  0.508738  59.999214    55  \n",
      "12  9.009336  14.538249    60  \n",
      "13  6.964804  16.987444    65  \n",
      "14  5.182649  29.338727    70  \n",
      "15  0.438424  81.462644    75  \n",
      "16  1.215727  61.278748    80  \n",
      "17  8.352950  47.795704    85  \n",
      "18  6.383622  97.117442    90  \n",
      "19  1.827275  39.583611    95  \n"
     ]
    }
   ],
   "source": [
    "dst_time = dst0.sort_values('time')\n",
    "print(dst_time)"
   ]
  },
  {
   "cell_type": "markdown",
   "metadata": {},
   "source": [
    "### Compute a vector of time differences"
   ]
  },
  {
   "cell_type": "code",
   "execution_count": 312,
   "metadata": {},
   "outputs": [
    {
     "name": "stdout",
     "output_type": "stream",
     "text": [
      "[ 0  5 10 15 20 25 30 35 40 45 50 55 60 65 70 75 80 85 90 95]\n"
     ]
    }
   ],
   "source": [
    "T       = dst_time.time.values\n",
    "DT      = time_delta_from_time(T)\n",
    "print(DT)"
   ]
  },
  {
   "cell_type": "markdown",
   "metadata": {},
   "source": [
    "### Expand the DST with DT"
   ]
  },
  {
   "cell_type": "code",
   "execution_count": 313,
   "metadata": {},
   "outputs": [
    {
     "name": "stdout",
     "output_type": "stream",
     "text": [
      "             X           Y           Z           R       Phi          S2e  \\\n",
      "0    71.812019  -42.452912  308.580011  193.214689 -2.414363  6796.906561   \n",
      "1   121.184480  136.445466  216.992253   89.131817 -1.186726  5864.588246   \n",
      "2    27.623348 -164.951540   32.995226   96.817558 -1.021389  8071.294810   \n",
      "3   101.971148  -82.100068  226.240311  151.291569  0.743287  7551.659687   \n",
      "4   132.055092 -166.028793  291.938796   54.133194 -2.396242  6501.295561   \n",
      "5   170.301807  -25.730063  332.929736  128.123209 -2.147433  6117.319226   \n",
      "6   154.782312  141.407678  362.372189   45.280288  1.899512  9862.477012   \n",
      "7    70.577616   21.147776  245.490635  169.741147  1.633419  5951.979248   \n",
      "8   -58.525105 -121.989988  484.229713  155.323782 -2.535831  6497.732366   \n",
      "9  -125.873172  -32.678165   58.819241   40.909191  0.794449  7926.165196   \n",
      "10 -131.359283  -44.355435  271.521157  190.460580 -2.401494  9217.267882   \n",
      "11    0.364440   66.470231  441.110753   97.760119 -2.033681  9948.109751   \n",
      "12   40.170848 -123.465755  475.428668  109.342534  2.871325  6043.203938   \n",
      "13  178.594654  101.976173  418.555415  159.437771  1.540454  9365.018367   \n",
      "14 -178.950340  129.574146  451.940681   64.648819  0.399447  5083.401631   \n",
      "15  189.957394   90.234472  357.905237  166.133087  2.596590  9706.523252   \n",
      "16  -55.261638  162.559231  469.232165  181.306661  0.298750  8998.565850   \n",
      "17   28.914762   -4.282056  377.493642  166.625491  0.755598  8110.500650   \n",
      "18 -136.054490  173.244842  276.519687   32.108858  3.096472  8072.099927   \n",
      "19  -95.785484  195.084051  385.497070  192.674842  0.446591  5401.154423   \n",
      "\n",
      "         S1e        S2q  time  DT  \n",
      "0   8.292351  52.125915     0   0  \n",
      "1   8.474599  72.088111     5   5  \n",
      "2   1.283923  50.074229    10  10  \n",
      "3   6.776762  99.354912    15  15  \n",
      "4   1.182190   7.246510    20  20  \n",
      "5   2.430280  38.101958    25  25  \n",
      "6   2.596920  18.501735    30  30  \n",
      "7   8.425470   0.399434    35  35  \n",
      "8   4.723558  41.829815    40  40  \n",
      "9   9.471552  15.204447    45  45  \n",
      "10  9.006525  37.499484    50  50  \n",
      "11  0.508738  59.999214    55  55  \n",
      "12  9.009336  14.538249    60  60  \n",
      "13  6.964804  16.987444    65  65  \n",
      "14  5.182649  29.338727    70  70  \n",
      "15  0.438424  81.462644    75  75  \n",
      "16  1.215727  61.278748    80  80  \n",
      "17  8.352950  47.795704    85  85  \n",
      "18  6.383622  97.117442    90  90  \n",
      "19  1.827275  39.583611    95  95  \n"
     ]
    }
   ],
   "source": [
    "dst = dst_time.assign(DT=DT)\n",
    "print(dst)"
   ]
  },
  {
   "cell_type": "code",
   "execution_count": 318,
   "metadata": {},
   "outputs": [
    {
     "name": "stdout",
     "output_type": "stream",
     "text": [
      "Phi (deg) = [ 41.66719269 112.00559716 121.47873837 222.58720158  42.70546798\n",
      "  56.96116359 288.83402263 273.58800485  34.70758116 225.51859372\n",
      "  42.4045011   63.47863615 344.51482947 268.26152589 202.88661388\n",
      " 328.77366092 197.11711474 223.29257812 357.41476533 205.58776719]\n"
     ]
    }
   ],
   "source": []
  },
  {
   "cell_type": "code",
   "execution_count": null,
   "metadata": {},
   "outputs": [],
   "source": [
    "print(f'Phi (deg) = {phirad_to_deg(dst.Phi.values)}')"
   ]
  },
  {
   "cell_type": "markdown",
   "metadata": {},
   "source": [
    "## Selection functions"
   ]
  },
  {
   "cell_type": "markdown",
   "metadata": {},
   "source": [
    "### event_map_df\n",
    "\n",
    "```\n",
    "def event_map_df(dstMap : Dict[int, List[DataFrame]])->DataFrame:\n",
    "    \"\"\"\n",
    "    Compute a numerical map from a DataFrame map\n",
    "\n",
    "    Parameters\n",
    "    ----------\n",
    "    dstMAP:\n",
    "        A DataFrame map, e.g, a Dict[int, List[DataFrame]]\n",
    "\n",
    "    Returns\n",
    "    -------\n",
    "        A DataFrame in which each entry corresponds to the length of the\n",
    "        DataFrames in the map.\n",
    "\n",
    "    \"\"\"\n",
    "````"
   ]
  },
  {
   "cell_type": "code",
   "execution_count": 280,
   "metadata": {},
   "outputs": [
    {
     "data": {
      "text/plain": [
       "20"
      ]
     },
     "execution_count": 280,
     "metadata": {},
     "output_type": "execute_result"
    }
   ],
   "source": [
    "len(dst)"
   ]
  },
  {
   "cell_type": "code",
   "execution_count": 281,
   "metadata": {},
   "outputs": [],
   "source": [
    "dstMap={0:[dst]}"
   ]
  },
  {
   "cell_type": "code",
   "execution_count": 282,
   "metadata": {},
   "outputs": [
    {
     "data": {
      "text/html": [
       "<div>\n",
       "<style scoped>\n",
       "    .dataframe tbody tr th:only-of-type {\n",
       "        vertical-align: middle;\n",
       "    }\n",
       "\n",
       "    .dataframe tbody tr th {\n",
       "        vertical-align: top;\n",
       "    }\n",
       "\n",
       "    .dataframe thead th {\n",
       "        text-align: right;\n",
       "    }\n",
       "</style>\n",
       "<table border=\"1\" class=\"dataframe\">\n",
       "  <thead>\n",
       "    <tr style=\"text-align: right;\">\n",
       "      <th></th>\n",
       "      <th>0</th>\n",
       "    </tr>\n",
       "  </thead>\n",
       "  <tbody>\n",
       "    <tr>\n",
       "      <th>0</th>\n",
       "      <td>20</td>\n",
       "    </tr>\n",
       "  </tbody>\n",
       "</table>\n",
       "</div>"
      ],
      "text/plain": [
       "    0\n",
       "0  20"
      ]
     },
     "execution_count": 282,
     "metadata": {},
     "output_type": "execute_result"
    }
   ],
   "source": [
    "em = event_map_df(dstMap)\n",
    "em"
   ]
  },
  {
   "cell_type": "code",
   "execution_count": 283,
   "metadata": {},
   "outputs": [
    {
     "data": {
      "text/plain": [
       "True"
      ]
     },
     "execution_count": 283,
     "metadata": {},
     "output_type": "execute_result"
    }
   ],
   "source": [
    "em[0][0] == len(dst)"
   ]
  },
  {
   "cell_type": "code",
   "execution_count": null,
   "metadata": {},
   "outputs": [],
   "source": []
  },
  {
   "cell_type": "markdown",
   "metadata": {},
   "source": [
    "### Time series\n",
    "\n",
    "```\n",
    "def get_time_series_df(time_bins    : Number,\n",
    "                       time_range   : Tuple[float, float],\n",
    "                       dst          : DataFrame,\n",
    "                       time_column  : str = 'DT')->Tuple[np.array, List[np.array]]:\n",
    "    \"\"\"\n",
    "\n",
    "    Given a dst (DataFrame) with a time column specified by the name time,\n",
    "    this function returns a time series (ts) and a list of masks which are used to divide\n",
    "    the event in time tranches.\n",
    "\n",
    "    More generically, one can produce a \"time series\" using any column of the dst\n",
    "    simply specifying time_column = ColumName\n",
    "\n",
    "        Parameters\n",
    "        ----------\n",
    "            time_bins\n",
    "                Number of time bines.\n",
    "            time_range\n",
    "                Time range.\n",
    "            dst\n",
    "                A Data Frame\n",
    "            time_column\n",
    "            A string specifyng the dst column to be divided in time slices.\n",
    "\n",
    "        Returns\n",
    "        -------\n",
    "            A Tuple with:\n",
    "            np.array       : This is the ts vector\n",
    "            List[np.array] : This are the list of masks defining the events in the time series.\n",
    "\n",
    "    \"\"\"\n",
    "```\n"
   ]
  },
  {
   "cell_type": "markdown",
   "metadata": {},
   "source": [
    "#### Example: compute the time series for 5 bins, between DT[0] and DT[-1]"
   ]
  },
  {
   "cell_type": "code",
   "execution_count": 284,
   "metadata": {},
   "outputs": [],
   "source": [
    "ts, masks = get_time_series(5,(dst.DT.values[0], dst.DT.values[-1]), dst)"
   ]
  },
  {
   "cell_type": "code",
   "execution_count": 285,
   "metadata": {},
   "outputs": [
    {
     "name": "stdout",
     "output_type": "stream",
     "text": [
      "time series bins = [ 9.5 28.5 47.5 66.5 85.5]\n"
     ]
    }
   ],
   "source": [
    "print(f'time series bins = {ts}')"
   ]
  },
  {
   "cell_type": "code",
   "execution_count": 286,
   "metadata": {},
   "outputs": [
    {
     "name": "stdout",
     "output_type": "stream",
     "text": [
      "masks = [[ True  True  True  True False False False False False False False False\n",
      "  False False False False False False False False]\n",
      " [False False False False  True  True  True  True False False False False\n",
      "  False False False False False False False False]\n",
      " [False False False False False False False False  True  True  True  True\n",
      "  False False False False False False False False]\n",
      " [False False False False False False False False False False False False\n",
      "   True  True  True  True False False False False]\n",
      " [False False False False False False False False False False False False\n",
      "  False False False False  True  True  True False]]\n"
     ]
    }
   ],
   "source": [
    "print(f'masks = {np.array(masks)}')"
   ]
  },
  {
   "cell_type": "code",
   "execution_count": 287,
   "metadata": {},
   "outputs": [],
   "source": [
    "ts2, masks2 = get_time_series_df(5,(dst.DT.values[0], dst.DT.values[-1]), dst, time_column='time')"
   ]
  },
  {
   "cell_type": "code",
   "execution_count": 288,
   "metadata": {},
   "outputs": [
    {
     "data": {
      "text/plain": [
       "True"
      ]
     },
     "execution_count": 288,
     "metadata": {},
     "output_type": "execute_result"
    }
   ],
   "source": [
    "np.equal(masks, masks2).all()"
   ]
  },
  {
   "cell_type": "code",
   "execution_count": 289,
   "metadata": {},
   "outputs": [
    {
     "data": {
      "text/plain": [
       "True"
      ]
     },
     "execution_count": 289,
     "metadata": {},
     "output_type": "execute_result"
    }
   ],
   "source": [
    "np.equal(ts, ts2).all()"
   ]
  },
  {
   "cell_type": "markdown",
   "metadata": {},
   "source": [
    "## select_xy_sectors_df\n",
    "\n",
    "```\n",
    "def select_xy_sectors_df(dst        : DataFrame,\n",
    "                         bins_x     : np.array,\n",
    "                         bins_y     : np.array)-> Dict[int, List[DataFrame]]:\n",
    "    \"\"\"\n",
    "    Return a DataFrameMap of selections organized by xy sector\n",
    "    DataFrameMap = Dict[int, List[DataFrame]]\n",
    "\n",
    "    Parameters\n",
    "    ----------\n",
    "        dst:\n",
    "        The input data frame.\n",
    "        bins_x:\n",
    "        An array of bins along x.\n",
    "        bins_y:\n",
    "        An array of bins along y.\n",
    "\n",
    "    Returns\n",
    "    -------\n",
    "        A DataFrameMap of selections\n",
    "        where for each x (the key in the dict) one has a list\n",
    "        (corresponding to y cells) of DataFrame (the events selected)\n",
    "\n",
    "    \"\"\"\n",
    "\n",
    "```"
   ]
  },
  {
   "cell_type": "markdown",
   "metadata": {},
   "source": [
    "#### Define XY bins"
   ]
  },
  {
   "cell_type": "code",
   "execution_count": 291,
   "metadata": {},
   "outputs": [
    {
     "name": "stdout",
     "output_type": "stream",
     "text": [
      "xb, nbx = (array([  0,  25,  50,  75, 100, 125, 150, 175, 200]), 8)\n",
      "yb, nby = (array([  0,  25,  50,  75, 100, 125, 150, 175, 200]), 8)\n"
     ]
    }
   ],
   "source": [
    "xb = np.arange(0,201,25)\n",
    "yb = np.arange(0,201,25)\n",
    "nbx = len(xb) -1\n",
    "nby = len(yb) -1\n",
    "print(f'xb, nbx = {xb, nbx}')\n",
    "print(f'yb, nby = {yb, nby}')"
   ]
  },
  {
   "cell_type": "markdown",
   "metadata": {},
   "source": [
    "#### Check ranges"
   ]
  },
  {
   "cell_type": "code",
   "execution_count": 292,
   "metadata": {},
   "outputs": [],
   "source": [
    "def x_and_y_ranges(data, xb, yb, nbx, nby):\n",
    "    r = True\n",
    "    for i in range(nbx):\n",
    "        dstx = data[in_range(data.X, *xb[i: i+2])]\n",
    "        r & in_range(dstx.X.values, xb[i: i+2][0], xb[i: i+2][1]).all()\n",
    "        for j in range(nby):\n",
    "            dsty = dstx[in_range(dstx.Y, *yb[j: j+2])]\n",
    "            r & in_range(dsty.Y.values, yb[j: j+2][0], yb[j: j+2][1]).all()\n",
    "    return r"
   ]
  },
  {
   "cell_type": "code",
   "execution_count": 293,
   "metadata": {},
   "outputs": [
    {
     "data": {
      "text/plain": [
       "True"
      ]
     },
     "execution_count": 293,
     "metadata": {},
     "output_type": "execute_result"
    }
   ],
   "source": [
    "x_and_y_ranges(data, xb, yb, nbx, nby)"
   ]
  },
  {
   "cell_type": "markdown",
   "metadata": {},
   "source": [
    "#### Fill dict"
   ]
  },
  {
   "cell_type": "code",
   "execution_count": 294,
   "metadata": {},
   "outputs": [],
   "source": [
    "selDict = {}\n",
    "for i in range(nbx):\n",
    "    dstx = data[in_range(data.X, *xb[i: i+2])]\n",
    "    selDict[i] = [dstx[in_range(dstx.Y, *yb[j: j+2])] for j in range(nby) ]\n",
    "\n",
    "sel = event_map_df(selDict)"
   ]
  },
  {
   "cell_type": "code",
   "execution_count": 295,
   "metadata": {},
   "outputs": [
    {
     "data": {
      "text/html": [
       "<div>\n",
       "<style scoped>\n",
       "    .dataframe tbody tr th:only-of-type {\n",
       "        vertical-align: middle;\n",
       "    }\n",
       "\n",
       "    .dataframe tbody tr th {\n",
       "        vertical-align: top;\n",
       "    }\n",
       "\n",
       "    .dataframe thead th {\n",
       "        text-align: right;\n",
       "    }\n",
       "</style>\n",
       "<table border=\"1\" class=\"dataframe\">\n",
       "  <thead>\n",
       "    <tr style=\"text-align: right;\">\n",
       "      <th></th>\n",
       "      <th>0</th>\n",
       "      <th>1</th>\n",
       "      <th>2</th>\n",
       "      <th>3</th>\n",
       "      <th>4</th>\n",
       "      <th>5</th>\n",
       "      <th>6</th>\n",
       "      <th>7</th>\n",
       "    </tr>\n",
       "  </thead>\n",
       "  <tbody>\n",
       "    <tr>\n",
       "      <th>0</th>\n",
       "      <td>1</td>\n",
       "      <td>0</td>\n",
       "      <td>1</td>\n",
       "      <td>1</td>\n",
       "      <td>0</td>\n",
       "      <td>0</td>\n",
       "      <td>0</td>\n",
       "      <td>0</td>\n",
       "    </tr>\n",
       "    <tr>\n",
       "      <th>1</th>\n",
       "      <td>1</td>\n",
       "      <td>2</td>\n",
       "      <td>3</td>\n",
       "      <td>1</td>\n",
       "      <td>0</td>\n",
       "      <td>0</td>\n",
       "      <td>0</td>\n",
       "      <td>0</td>\n",
       "    </tr>\n",
       "    <tr>\n",
       "      <th>2</th>\n",
       "      <td>1</td>\n",
       "      <td>0</td>\n",
       "      <td>0</td>\n",
       "      <td>1</td>\n",
       "      <td>0</td>\n",
       "      <td>0</td>\n",
       "      <td>0</td>\n",
       "      <td>0</td>\n",
       "    </tr>\n",
       "    <tr>\n",
       "      <th>3</th>\n",
       "      <td>1</td>\n",
       "      <td>2</td>\n",
       "      <td>4</td>\n",
       "      <td>1</td>\n",
       "      <td>0</td>\n",
       "      <td>0</td>\n",
       "      <td>0</td>\n",
       "      <td>0</td>\n",
       "    </tr>\n",
       "    <tr>\n",
       "      <th>4</th>\n",
       "      <td>0</td>\n",
       "      <td>0</td>\n",
       "      <td>0</td>\n",
       "      <td>0</td>\n",
       "      <td>0</td>\n",
       "      <td>0</td>\n",
       "      <td>0</td>\n",
       "      <td>0</td>\n",
       "    </tr>\n",
       "    <tr>\n",
       "      <th>5</th>\n",
       "      <td>0</td>\n",
       "      <td>0</td>\n",
       "      <td>0</td>\n",
       "      <td>0</td>\n",
       "      <td>0</td>\n",
       "      <td>0</td>\n",
       "      <td>0</td>\n",
       "      <td>0</td>\n",
       "    </tr>\n",
       "    <tr>\n",
       "      <th>6</th>\n",
       "      <td>0</td>\n",
       "      <td>0</td>\n",
       "      <td>0</td>\n",
       "      <td>0</td>\n",
       "      <td>0</td>\n",
       "      <td>0</td>\n",
       "      <td>0</td>\n",
       "      <td>0</td>\n",
       "    </tr>\n",
       "    <tr>\n",
       "      <th>7</th>\n",
       "      <td>0</td>\n",
       "      <td>0</td>\n",
       "      <td>0</td>\n",
       "      <td>0</td>\n",
       "      <td>0</td>\n",
       "      <td>0</td>\n",
       "      <td>0</td>\n",
       "      <td>0</td>\n",
       "    </tr>\n",
       "  </tbody>\n",
       "</table>\n",
       "</div>"
      ],
      "text/plain": [
       "   0  1  2  3  4  5  6  7\n",
       "0  1  0  1  1  0  0  0  0\n",
       "1  1  2  3  1  0  0  0  0\n",
       "2  1  0  0  1  0  0  0  0\n",
       "3  1  2  4  1  0  0  0  0\n",
       "4  0  0  0  0  0  0  0  0\n",
       "5  0  0  0  0  0  0  0  0\n",
       "6  0  0  0  0  0  0  0  0\n",
       "7  0  0  0  0  0  0  0  0"
      ]
     },
     "execution_count": 295,
     "metadata": {},
     "output_type": "execute_result"
    }
   ],
   "source": [
    "sel"
   ]
  },
  {
   "cell_type": "markdown",
   "metadata": {},
   "source": [
    "#### Call function and make counting map"
   ]
  },
  {
   "cell_type": "code",
   "execution_count": 296,
   "metadata": {},
   "outputs": [],
   "source": [
    "selMap = select_xy_sectors_df(data, xb, yb)"
   ]
  },
  {
   "cell_type": "code",
   "execution_count": 297,
   "metadata": {},
   "outputs": [],
   "source": [
    "sel2 = event_map_df(selMap)"
   ]
  },
  {
   "cell_type": "markdown",
   "metadata": {},
   "source": [
    "#### Compare data frames"
   ]
  },
  {
   "cell_type": "code",
   "execution_count": 298,
   "metadata": {},
   "outputs": [
    {
     "data": {
      "text/plain": [
       "True"
      ]
     },
     "execution_count": 298,
     "metadata": {},
     "output_type": "execute_result"
    }
   ],
   "source": [
    "data_frames_are_identical(sel, sel2)"
   ]
  },
  {
   "cell_type": "markdown",
   "metadata": {},
   "source": [
    "## select_rphi_sectors_df\n",
    "\n",
    "```\n",
    "    \"\"\"\n",
    "    Return a dict of KrEvent organized by rphi sector.\n",
    "\n",
    "    Parameters\n",
    "    ----------\n",
    "        dst:\n",
    "        The input data frame.\n",
    "\n",
    "        RPS:\n",
    "        RPHI selection, a map defining the RPHI wedges.\n",
    "\n",
    "    Returns\n",
    "    -------\n",
    "        A DataFrameMap of selections\n",
    "        where for each radial sector (the key in the dict) one has a list\n",
    "        (corresponding to the PHI sectors) of DataFrame (the events selected)\n",
    "\n",
    "    \"\"\"\n",
    "\n",
    "```"
   ]
  },
  {
   "cell_type": "markdown",
   "metadata": {},
   "source": [
    "#### To compute a RPHI map, the first step is to define a KrSector map which contains the definition of the RPHI wedges:\n",
    "\n",
    "1. Call rphi_sector_map_def():\n",
    "\n",
    "```\n",
    "def rphi_sector_map_def(nSectors : int   =10,\n",
    "                        rmax     : float =200,\n",
    "                        sphi     : float =45)->RPhiMapDef:\n",
    "@dataclass\n",
    "class RPhiMapDef:  # defines the values in (R,Phi) to compute RPHI maps\n",
    "    r   : Dict[int, Tuple[float, float]] # (rmin, rmax) in each radial sector\n",
    "    phi : Dict[int, List[Tuple[float, float]]] # (phi_0, ph_1... phi_s) per radial sector\n",
    "```\n",
    "\n",
    "2. Call define_rphi_sectors():\n",
    "```\n",
    "def define_rphi_sectors(rpmf : RPhiMapDef)-> Dict[int, List[KrSector]]:\n",
    "    \"\"\"\n",
    "    Compute a map (defined as a Dict[int, List[]]) of KrSectors`\n",
    "```\n",
    "\n",
    "3. The KrSector map (W) can be drawn (with draw_wedges), and then used to compute selection maps"
   ]
  },
  {
   "cell_type": "code",
   "execution_count": 302,
   "metadata": {},
   "outputs": [
    {
     "data": {
      "image/png": "[encoded data removed]",
      "text/plain": [
       "<Figure size 720x576 with 2 Axes>"
      ]
     },
     "metadata": {},
     "output_type": "display_data"
    }
   ],
   "source": [
    "NSECTORS =5  # number of sectors in R. Each sector then is 200 / 5 = 40 cm.\n",
    "SPHI     =45 # size of the phi pie-slice in degrees, thus 10 slices in phi.\n",
    "RMAX      = 200\n",
    "rpsmd = rphi_sector_map_def(nSectors=NSECTORS, rmax=RMAX, sphi=SPHI)\n",
    "W     = define_rphi_sectors(rpsmd)\n",
    "draw_wedges(W,  rmax = RMAX, \n",
    "            scale= 0.49, figsize=(10,8), alpha=1.0,\n",
    "            cr =range(NSECTORS))"
   ]
  },
  {
   "cell_type": "code",
   "execution_count": 314,
   "metadata": {},
   "outputs": [],
   "source": [
    "KSRP = select_rphi_sectors_df(dst, W)"
   ]
  },
  {
   "cell_type": "code",
   "execution_count": 323,
   "metadata": {},
   "outputs": [],
   "source": [
    "neM = event_map_df(KSRP)"
   ]
  },
  {
   "cell_type": "code",
   "execution_count": 324,
   "metadata": {},
   "outputs": [
    {
     "data": {
      "text/html": [
       "<div>\n",
       "<style scoped>\n",
       "    .dataframe tbody tr th:only-of-type {\n",
       "        vertical-align: middle;\n",
       "    }\n",
       "\n",
       "    .dataframe tbody tr th {\n",
       "        vertical-align: top;\n",
       "    }\n",
       "\n",
       "    .dataframe thead th {\n",
       "        text-align: right;\n",
       "    }\n",
       "</style>\n",
       "<table border=\"1\" class=\"dataframe\">\n",
       "  <thead>\n",
       "    <tr style=\"text-align: right;\">\n",
       "      <th></th>\n",
       "      <th>0</th>\n",
       "      <th>1</th>\n",
       "      <th>2</th>\n",
       "      <th>3</th>\n",
       "      <th>4</th>\n",
       "    </tr>\n",
       "  </thead>\n",
       "  <tbody>\n",
       "    <tr>\n",
       "      <th>0</th>\n",
       "      <td>0</td>\n",
       "      <td>1</td>\n",
       "      <td>0</td>\n",
       "      <td>1</td>\n",
       "      <td>2</td>\n",
       "    </tr>\n",
       "    <tr>\n",
       "      <th>1</th>\n",
       "      <td>0</td>\n",
       "      <td>0</td>\n",
       "      <td>1</td>\n",
       "      <td>1</td>\n",
       "      <td>0</td>\n",
       "    </tr>\n",
       "    <tr>\n",
       "      <th>2</th>\n",
       "      <td>0</td>\n",
       "      <td>0</td>\n",
       "      <td>2</td>\n",
       "      <td>0</td>\n",
       "      <td>0</td>\n",
       "    </tr>\n",
       "    <tr>\n",
       "      <th>3</th>\n",
       "      <td>0</td>\n",
       "      <td>0</td>\n",
       "      <td>0</td>\n",
       "      <td>0</td>\n",
       "      <td>0</td>\n",
       "    </tr>\n",
       "    <tr>\n",
       "      <th>4</th>\n",
       "      <td>0</td>\n",
       "      <td>1</td>\n",
       "      <td>0</td>\n",
       "      <td>1</td>\n",
       "      <td>3</td>\n",
       "    </tr>\n",
       "    <tr>\n",
       "      <th>5</th>\n",
       "      <td>0</td>\n",
       "      <td>1</td>\n",
       "      <td>0</td>\n",
       "      <td>1</td>\n",
       "      <td>0</td>\n",
       "    </tr>\n",
       "    <tr>\n",
       "      <th>6</th>\n",
       "      <td>0</td>\n",
       "      <td>1</td>\n",
       "      <td>0</td>\n",
       "      <td>0</td>\n",
       "      <td>1</td>\n",
       "    </tr>\n",
       "    <tr>\n",
       "      <th>7</th>\n",
       "      <td>1</td>\n",
       "      <td>0</td>\n",
       "      <td>1</td>\n",
       "      <td>0</td>\n",
       "      <td>1</td>\n",
       "    </tr>\n",
       "  </tbody>\n",
       "</table>\n",
       "</div>"
      ],
      "text/plain": [
       "   0  1  2  3  4\n",
       "0  0  1  0  1  2\n",
       "1  0  0  1  1  0\n",
       "2  0  0  2  0  0\n",
       "3  0  0  0  0  0\n",
       "4  0  1  0  1  3\n",
       "5  0  1  0  1  0\n",
       "6  0  1  0  0  1\n",
       "7  1  0  1  0  1"
      ]
     },
     "execution_count": 324,
     "metadata": {},
     "output_type": "execute_result"
    }
   ],
   "source": [
    "neM"
   ]
  },
  {
   "cell_type": "code",
   "execution_count": null,
   "metadata": {},
   "outputs": [],
   "source": []
  },
  {
   "cell_type": "markdown",
   "metadata": {},
   "source": [
    "## END"
   ]
  }
 ],
 "metadata": {
  "kernelspec": {
   "display_name": "Python 3",
   "language": "python",
   "name": "python3"
  },
  "language_info": {
   "codemirror_mode": {
    "name": "ipython",
    "version": 3
   },
   "file_extension": ".py",
   "mimetype": "text/x-python",
   "name": "python",
   "nbconvert_exporter": "python",
   "pygments_lexer": "ipython3",
   "version": "3.7.1"
  }
 },
 "nbformat": 4,
 "nbformat_minor": 2
}
