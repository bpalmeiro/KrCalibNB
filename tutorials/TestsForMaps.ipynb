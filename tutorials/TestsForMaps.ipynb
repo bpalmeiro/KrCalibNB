{
 "cells": [
  {
   "cell_type": "markdown",
   "metadata": {},
   "source": [
    "# Tests for maps"
   ]
  },
  {
   "cell_type": "markdown",
   "metadata": {},
   "source": [
    "# Author JJGC"
   ]
  },
  {
   "cell_type": "markdown",
   "metadata": {},
   "source": [
    "## ilustration of tests for maps functions"
   ]
  },
  {
   "cell_type": "code",
   "execution_count": 6,
   "metadata": {},
   "outputs": [
    {
     "name": "stdout",
     "output_type": "stream",
     "text": [
      "Last updated on  Mon Feb 11 09:46:18 2019\n"
     ]
    }
   ],
   "source": [
    "%load_ext autoreload\n",
    "%autoreload 2\n",
    "import os\n",
    "import sys\n",
    "import time\n",
    "import warnings\n",
    "import datetime \n",
    "print(\"Last updated on \", time.asctime())"
   ]
  },
  {
   "cell_type": "markdown",
   "metadata": {},
   "source": [
    "### Notebook configuration"
   ]
  },
  {
   "cell_type": "code",
   "execution_count": 7,
   "metadata": {},
   "outputs": [],
   "source": [
    "%matplotlib inline\n",
    "import matplotlib.pyplot as plt\n",
    "\n",
    "plt.rcParams[\"figure.figsize\"] = 10, 8\n",
    "plt.rcParams[\"font.size\"     ] = 14"
   ]
  },
  {
   "cell_type": "code",
   "execution_count": 8,
   "metadata": {},
   "outputs": [],
   "source": [
    "import seaborn as sns\n",
    "import numpy as np\n",
    "import pandas as pd\n",
    "import matplotlib\n",
    "import tables            as tb\n",
    "import random\n",
    "import glob\n",
    "import warnings\n",
    "sns.set()"
   ]
  },
  {
   "cell_type": "code",
   "execution_count": 9,
   "metadata": {},
   "outputs": [],
   "source": [
    "from krcal.core.core_functions      import timeit"
   ]
  },
  {
   "cell_type": "code",
   "execution_count": 10,
   "metadata": {},
   "outputs": [],
   "source": [
    "from krcal.core.kr_types                 import KrEvent\n",
    "from krcal.core.analysis_functions       import kr_event\n",
    "from typing      import List, Tuple, Sequence, Iterable, Dict\n",
    "from   pandas.core.frame import DataFrame"
   ]
  },
  {
   "cell_type": "code",
   "execution_count": 11,
   "metadata": {},
   "outputs": [],
   "source": [
    "import logging\n",
    "log = logging.getLogger()"
   ]
  },
  {
   "cell_type": "code",
   "execution_count": 25,
   "metadata": {},
   "outputs": [],
   "source": [
    "from krcal.core.io_functions                 import filenames_from_list\n",
    "from krcal.core.kr_types                     import Number\n",
    "from krcal.core.kr_types                     import KrFileName\n",
    "from  invisible_cities.io.dst_io             import load_dsts\n",
    "from krcal.core.core_functions               import time_delta_from_time\n",
    "from krcal.core.analysis_functions           import kr_ranges_and_bins\n",
    "from krcal.core.analysis_functions           import select_xy_sectors\n",
    "from krcal.core.analysis_functions           import select_xy_sectors_df\n",
    "from krcal.core.analysis_functions           import event_map\n",
    "from   invisible_cities.core.core_functions  import in_range\n",
    "from krcal.core.core_functions               import time_delta_from_time"
   ]
  },
  {
   "cell_type": "code",
   "execution_count": 19,
   "metadata": {},
   "outputs": [],
   "source": [
    "import cProfile"
   ]
  },
  {
   "cell_type": "code",
   "execution_count": 20,
   "metadata": {},
   "outputs": [],
   "source": [
    "import logging\n",
    "log = logging.getLogger()"
   ]
  },
  {
   "cell_type": "markdown",
   "metadata": {},
   "source": [
    "## Get time series"
   ]
  },
  {
   "cell_type": "code",
   "execution_count": 21,
   "metadata": {},
   "outputs": [],
   "source": [
    "def get_time_series(time_bins    : Number,\n",
    "                    time_range   : Tuple[float, float],\n",
    "                    dst          : DataFrame)->Tuple[np.array, List[np.array]]:\n",
    "    \"\"\"\n",
    "\n",
    "    Returns a time series (ts) and a list of masks which are used to divide\n",
    "    the event in time tranches.\n",
    "\n",
    "        Parameters\n",
    "        ----------\n",
    "            time_bins\n",
    "                Number of time bines.\n",
    "            time_range\n",
    "                Time range.\n",
    "            T\n",
    "                A vector of times.\n",
    "\n",
    "        Returns\n",
    "        -------\n",
    "            A Tuple with:\n",
    "            np.array       : This is the ts vector\n",
    "            List[np.array] : This are the list of masks defining the events in the time series.\n",
    "\n",
    "    \"\"\"\n",
    "\n",
    "    logging.debug(f'function: get_time_series')\n",
    "    nt = time_bins\n",
    "    x = int((time_range[-1] -  time_range[0]) / nt)\n",
    "    tfirst = int(time_range[0])\n",
    "    tlast  = int(time_range[-1])\n",
    "    if x == 1:\n",
    "        indx = [(tfirst, tlast)]\n",
    "    else:\n",
    "        indx = [(i, i + x) for i in range(tfirst, int(tlast - x), x) ]\n",
    "        indx.append((x * (nt -1), tlast))\n",
    "\n",
    "    ts = [(indx[i][0] + indx[i][1]) / 2 for i in range(len(indx))]\n",
    "\n",
    "    logging.debug(f' number of time bins = {nt}, t_first = {tfirst} t_last = {tlast}')\n",
    "    logging.debug(f'indx = {indx}')\n",
    "    logging.debug(f'ts = {ts}')\n",
    "\n",
    "    masks = [in_range(dst.DT.values, indx[i][0], indx[i][1]) for i in range(len(indx))]\n",
    "\n",
    "    return np.array(ts), masks\n"
   ]
  },
  {
   "cell_type": "markdown",
   "metadata": {},
   "source": [
    "## Select xy sectors"
   ]
  },
  {
   "cell_type": "code",
   "execution_count": 15,
   "metadata": {},
   "outputs": [],
   "source": [
    "def select_xy_sectors_df(dst        : DataFrame,\n",
    "                         bins_x     : np.array,\n",
    "                         bins_y     : np.array)-> Dict[int, List[DataFrame]]:\n",
    "    \"\"\"\n",
    "    Return a dict of selections organized by xy sector\n",
    "\n",
    "    Parameters\n",
    "    ----------\n",
    "        dst:\n",
    "        The input data frame.\n",
    "        bins_x:\n",
    "        An array of bins along x.\n",
    "        bins_y:\n",
    "        An array of bins along y.\n",
    "\n",
    "    Returns\n",
    "    -------\n",
    "        A map of selections defined as Dict[int, List[DataFrame]]\n",
    "        where for each x (the key in the dict) one has a list\n",
    "        (corresponding to y cells) of DataFrame (the events selected)\n",
    "\n",
    "    \"\"\"\n",
    "    RGES = {}\n",
    "    nbins_x = len(bins_x) -1\n",
    "    nbins_y = len(bins_y) -1\n",
    "    for i in range(nbins_x):\n",
    "        dstx = dst[in_range(dst.X, *bins_x[i: i+2])]\n",
    "        RGES[i] = [dstx[in_range(dstx.Y, *bins_y[j: j+2])] for j in range(nbins_y) ]\n",
    "\n",
    "    return RGES"
   ]
  },
  {
   "cell_type": "code",
   "execution_count": 16,
   "metadata": {},
   "outputs": [],
   "source": [
    "def x_and_y_ranges(data, xb, yb, nbx, nby):\n",
    "    r = True\n",
    "    for i in range(nbx):\n",
    "        dstx = data[in_range(data.X, *xb[i: i+2])]\n",
    "        r & in_range(dstx.X.values, xb[i: i+2][0], xb[i: i+2][1]).all()\n",
    "        for j in range(nby):\n",
    "            dsty = dstx[in_range(dstx.Y, *yb[j: j+2])]\n",
    "            r & in_range(dsty.Y.values, yb[j: j+2][0], yb[j: j+2][1]).all()\n",
    "    return r"
   ]
  },
  {
   "cell_type": "code",
   "execution_count": 17,
   "metadata": {},
   "outputs": [],
   "source": [
    "def nmap(RGES):\n",
    "    for i, ldst in RGES.items():\n",
    "        DLEN[i] =[len(dst) for dst in ldst]\n",
    "    return pd.DataFrame.from_dict(DLEN)\n"
   ]
  },
  {
   "cell_type": "code",
   "execution_count": 18,
   "metadata": {},
   "outputs": [],
   "source": [
    "def data_frames_are_identical(df1, df2):\n",
    "    df = df1 == df2 # the resulting df is a df of bools.\n",
    "    \n",
    "    # first all() gives a bool per column, creating a Series, seond all() gives a bool for the Series\n",
    "    return df.eq(True).all().all() "
   ]
  },
  {
   "cell_type": "markdown",
   "metadata": {},
   "source": [
    "## Prepare data\n",
    "- For our toy example the dst is a DataFrame with 3 columns: (X,Y,t)"
   ]
  },
  {
   "cell_type": "code",
   "execution_count": 42,
   "metadata": {},
   "outputs": [
    {
     "name": "stdout",
     "output_type": "stream",
     "text": [
      "            X          Y   t\n",
      "0   62.176172  18.609421   0\n",
      "1   68.552413  84.868491   5\n",
      "2   52.493751  33.038107  10\n",
      "3   42.127054  78.379566  15\n",
      "4   76.521328  15.337941  20\n",
      "5   54.420618  77.262200  25\n",
      "6   61.888440  32.449328  30\n",
      "7   15.466696  50.860008  35\n",
      "8   27.814152  76.017899  40\n",
      "9   25.200884  38.072995  45\n",
      "10  84.764463  43.107881  50\n",
      "11  73.952319  47.908672  55\n",
      "12  48.224708  26.017777  60\n",
      "13  51.101955  78.379809  65\n",
      "14  20.137830  31.718900  70\n",
      "15   8.834018  96.951566  75\n",
      "16  17.729220  11.384412  80\n",
      "17  89.433168  64.824041  85\n",
      "18  90.438037  85.065037  90\n",
      "19  74.517929  86.943769  95\n"
     ]
    }
   ],
   "source": [
    "x = np.random.random(20) * 100\n",
    "y = np.random.random(20) * 100\n",
    "t = np.arange(0,100,5) \n",
    "D = {}\n",
    "D['X'] = x\n",
    "D['Y'] = y\n",
    "D['t'] = t\n",
    "data = pd.DataFrame.from_dict(D)\n",
    "print(data)"
   ]
  },
  {
   "cell_type": "markdown",
   "metadata": {},
   "source": [
    "### Sort data frame in terms of time"
   ]
  },
  {
   "cell_type": "code",
   "execution_count": 43,
   "metadata": {},
   "outputs": [
    {
     "name": "stdout",
     "output_type": "stream",
     "text": [
      "            X          Y   t\n",
      "0   62.176172  18.609421   0\n",
      "1   68.552413  84.868491   5\n",
      "2   52.493751  33.038107  10\n",
      "3   42.127054  78.379566  15\n",
      "4   76.521328  15.337941  20\n",
      "5   54.420618  77.262200  25\n",
      "6   61.888440  32.449328  30\n",
      "7   15.466696  50.860008  35\n",
      "8   27.814152  76.017899  40\n",
      "9   25.200884  38.072995  45\n",
      "10  84.764463  43.107881  50\n",
      "11  73.952319  47.908672  55\n",
      "12  48.224708  26.017777  60\n",
      "13  51.101955  78.379809  65\n",
      "14  20.137830  31.718900  70\n",
      "15   8.834018  96.951566  75\n",
      "16  17.729220  11.384412  80\n",
      "17  89.433168  64.824041  85\n",
      "18  90.438037  85.065037  90\n",
      "19  74.517929  86.943769  95\n"
     ]
    }
   ],
   "source": [
    "dst_time = data.sort_values('t')\n",
    "print(dst_time)"
   ]
  },
  {
   "cell_type": "markdown",
   "metadata": {},
   "source": [
    "### Compute a vector of time differences"
   ]
  },
  {
   "cell_type": "code",
   "execution_count": 44,
   "metadata": {},
   "outputs": [
    {
     "name": "stdout",
     "output_type": "stream",
     "text": [
      "[ 0  5 10 15 20 25 30 35 40 45 50 55 60 65 70 75 80 85 90 95]\n"
     ]
    }
   ],
   "source": [
    "T       = dst_time.t.values\n",
    "DT      = time_delta_from_time(T)\n",
    "print(DT)"
   ]
  },
  {
   "cell_type": "markdown",
   "metadata": {},
   "source": [
    "### Expand the DST with DT"
   ]
  },
  {
   "cell_type": "code",
   "execution_count": 45,
   "metadata": {},
   "outputs": [
    {
     "name": "stdout",
     "output_type": "stream",
     "text": [
      "            X          Y   t  DT\n",
      "0   62.176172  18.609421   0   0\n",
      "1   68.552413  84.868491   5   5\n",
      "2   52.493751  33.038107  10  10\n",
      "3   42.127054  78.379566  15  15\n",
      "4   76.521328  15.337941  20  20\n",
      "5   54.420618  77.262200  25  25\n",
      "6   61.888440  32.449328  30  30\n",
      "7   15.466696  50.860008  35  35\n",
      "8   27.814152  76.017899  40  40\n",
      "9   25.200884  38.072995  45  45\n",
      "10  84.764463  43.107881  50  50\n",
      "11  73.952319  47.908672  55  55\n",
      "12  48.224708  26.017777  60  60\n",
      "13  51.101955  78.379809  65  65\n",
      "14  20.137830  31.718900  70  70\n",
      "15   8.834018  96.951566  75  75\n",
      "16  17.729220  11.384412  80  80\n",
      "17  89.433168  64.824041  85  85\n",
      "18  90.438037  85.065037  90  90\n",
      "19  74.517929  86.943769  95  95\n"
     ]
    }
   ],
   "source": [
    "dst = dst_time.assign(DT=DT)\n",
    "print(dst)"
   ]
  },
  {
   "cell_type": "markdown",
   "metadata": {},
   "source": [
    "### And now compute the time series for 5 bins, between DT[0] and DT[-1]"
   ]
  },
  {
   "cell_type": "code",
   "execution_count": 48,
   "metadata": {},
   "outputs": [],
   "source": [
    "ts, masks = get_time_series(5,(dst.DT.values[0], dst.DT.values[-1]), dst)"
   ]
  },
  {
   "cell_type": "code",
   "execution_count": 49,
   "metadata": {},
   "outputs": [
    {
     "name": "stdout",
     "output_type": "stream",
     "text": [
      "time series bins = [ 9.5 28.5 47.5 66.5 85.5]\n"
     ]
    }
   ],
   "source": [
    "print(f'time series bins = {ts}')"
   ]
  },
  {
   "cell_type": "code",
   "execution_count": 50,
   "metadata": {},
   "outputs": [
    {
     "name": "stdout",
     "output_type": "stream",
     "text": [
      "[array([ True,  True,  True,  True, False, False, False, False, False,\n",
      "       False, False, False, False, False, False, False, False, False,\n",
      "       False, False]), array([False, False, False, False,  True,  True,  True,  True, False,\n",
      "       False, False, False, False, False, False, False, False, False,\n",
      "       False, False]), array([False, False, False, False, False, False, False, False,  True,\n",
      "        True,  True,  True, False, False, False, False, False, False,\n",
      "       False, False]), array([False, False, False, False, False, False, False, False, False,\n",
      "       False, False, False,  True,  True,  True,  True, False, False,\n",
      "       False, False]), array([False, False, False, False, False, False, False, False, False,\n",
      "       False, False, False, False, False, False, False,  True,  True,\n",
      "        True, False])]\n"
     ]
    }
   ],
   "source": [
    "print(masks)"
   ]
  },
  {
   "cell_type": "code",
   "execution_count": 51,
   "metadata": {},
   "outputs": [
    {
     "name": "stdout",
     "output_type": "stream",
     "text": [
      " number of bins = 5, t0 = 0, tf = 95, step = 19\n"
     ]
    }
   ],
   "source": [
    "nt = 5\n",
    "t0 = dst.DT.values[0]\n",
    "tf = dst.DT.values[-1]\n",
    "step = int((tf -  t0) / nt)\n",
    "print(f' number of bins = {nt}, t0 = {t0}, tf = {tf}, step = {step}')"
   ]
  },
  {
   "cell_type": "markdown",
   "metadata": {},
   "source": [
    "### indx contains ranges that advance from t0 to tf adding step"
   ]
  },
  {
   "cell_type": "code",
   "execution_count": 52,
   "metadata": {},
   "outputs": [
    {
     "name": "stdout",
     "output_type": "stream",
     "text": [
      "indx = [(0, 19), (19, 38), (38, 57), (57, 76), (76, 95)]\n"
     ]
    }
   ],
   "source": [
    "t0 = int(t0)\n",
    "tf = int(tf)\n",
    "if step == 1:\n",
    "    indx = [(t0, tl)]\n",
    "else:\n",
    "    indx = [(i, i + step) for i in range(t0, int(tf - step), step) ]\n",
    "    indx.append((step * (nt -1), tf))\n",
    "print(f'indx = {indx}')"
   ]
  },
  {
   "cell_type": "code",
   "execution_count": 53,
   "metadata": {},
   "outputs": [
    {
     "name": "stdout",
     "output_type": "stream",
     "text": [
      "time series bins centers = [9.5, 28.5, 47.5, 66.5, 85.5]\n"
     ]
    }
   ],
   "source": [
    "ts = [(indx[i][0] + indx[i][1]) / 2 for i in range(len(indx))]\n",
    "print(f'time series bins centers = {ts}')"
   ]
  },
  {
   "cell_type": "code",
   "execution_count": 54,
   "metadata": {},
   "outputs": [
    {
     "name": "stdout",
     "output_type": "stream",
     "text": [
      "masks = [array([ True,  True,  True,  True, False, False, False, False, False,\n",
      "       False, False, False, False, False, False, False, False, False,\n",
      "       False, False]), array([False, False, False, False,  True,  True,  True,  True, False,\n",
      "       False, False, False, False, False, False, False, False, False,\n",
      "       False, False]), array([False, False, False, False, False, False, False, False,  True,\n",
      "        True,  True,  True, False, False, False, False, False, False,\n",
      "       False, False]), array([False, False, False, False, False, False, False, False, False,\n",
      "       False, False, False,  True,  True,  True,  True, False, False,\n",
      "       False, False]), array([False, False, False, False, False, False, False, False, False,\n",
      "       False, False, False, False, False, False, False,  True,  True,\n",
      "        True, False])]\n"
     ]
    }
   ],
   "source": [
    "masks = [in_range(dst.DT.values, indx[i][0], indx[i][1]) for i in range(len(indx))]\n",
    "print(f'masks = {masks}')"
   ]
  },
  {
   "cell_type": "code",
   "execution_count": 55,
   "metadata": {},
   "outputs": [
    {
     "data": {
      "text/plain": [
       "array([ True,  True,  True,  True, False, False, False, False, False,\n",
       "       False, False, False, False, False, False, False, False, False,\n",
       "       False, False])"
      ]
     },
     "execution_count": 55,
     "metadata": {},
     "output_type": "execute_result"
    }
   ],
   "source": [
    "masks[0]"
   ]
  },
  {
   "cell_type": "code",
   "execution_count": 60,
   "metadata": {},
   "outputs": [
    {
     "name": "stdout",
     "output_type": "stream",
     "text": [
      "4\n",
      "4\n",
      "4\n",
      "4\n",
      "3\n"
     ]
    }
   ],
   "source": [
    "for mask in masks:\n",
    "    print(np.count_nonzero(mask))"
   ]
  },
  {
   "cell_type": "markdown",
   "metadata": {},
   "source": [
    "### Given the structure of the time vector, there are always 4 True elements except in the last element of the list"
   ]
  },
  {
   "cell_type": "markdown",
   "metadata": {},
   "source": [
    "### Define XY bins"
   ]
  },
  {
   "cell_type": "code",
   "execution_count": 200,
   "metadata": {},
   "outputs": [
    {
     "name": "stdout",
     "output_type": "stream",
     "text": [
      "xb, nbx = (array([  0,  25,  50,  75, 100]), 4)\n",
      "yb, nby = (array([  0,  25,  50,  75, 100]), 4)\n"
     ]
    }
   ],
   "source": [
    "xb = np.arange(0,101,25)\n",
    "yb = np.arange(0,101,25)\n",
    "nbx = len(xb) -1\n",
    "nby = len(yb) -1\n",
    "print(f'xb, nbx = {xb, nbx}')\n",
    "print(f'yb, nby = {yb, nby}')"
   ]
  },
  {
   "cell_type": "markdown",
   "metadata": {},
   "source": [
    "### Check ranges"
   ]
  },
  {
   "cell_type": "code",
   "execution_count": 201,
   "metadata": {},
   "outputs": [
    {
     "data": {
      "text/plain": [
       "True"
      ]
     },
     "execution_count": 201,
     "metadata": {},
     "output_type": "execute_result"
    }
   ],
   "source": [
    "x_and_y_ranges(data, xb, yb, nbx, nby)"
   ]
  },
  {
   "cell_type": "markdown",
   "metadata": {},
   "source": [
    "### Fill dict"
   ]
  },
  {
   "cell_type": "code",
   "execution_count": 202,
   "metadata": {},
   "outputs": [],
   "source": [
    "selDict = {}\n",
    "for i in range(nbx):\n",
    "    dstx = data[in_range(data.X, *xb[i: i+2])]\n",
    "    selDict[i] = [dstx[in_range(dstx.Y, *yb[j: j+2])] for j in range(nby) ]\n",
    "\n",
    "sel = nmap(selDict)"
   ]
  },
  {
   "cell_type": "code",
   "execution_count": 203,
   "metadata": {},
   "outputs": [
    {
     "data": {
      "text/html": [
       "<div>\n",
       "<style scoped>\n",
       "    .dataframe tbody tr th:only-of-type {\n",
       "        vertical-align: middle;\n",
       "    }\n",
       "\n",
       "    .dataframe tbody tr th {\n",
       "        vertical-align: top;\n",
       "    }\n",
       "\n",
       "    .dataframe thead th {\n",
       "        text-align: right;\n",
       "    }\n",
       "</style>\n",
       "<table border=\"1\" class=\"dataframe\">\n",
       "  <thead>\n",
       "    <tr style=\"text-align: right;\">\n",
       "      <th></th>\n",
       "      <th>0</th>\n",
       "      <th>1</th>\n",
       "      <th>2</th>\n",
       "      <th>3</th>\n",
       "    </tr>\n",
       "  </thead>\n",
       "  <tbody>\n",
       "    <tr>\n",
       "      <th>0</th>\n",
       "      <td>0</td>\n",
       "      <td>1</td>\n",
       "      <td>2</td>\n",
       "      <td>0</td>\n",
       "    </tr>\n",
       "    <tr>\n",
       "      <th>1</th>\n",
       "      <td>2</td>\n",
       "      <td>1</td>\n",
       "      <td>2</td>\n",
       "      <td>2</td>\n",
       "    </tr>\n",
       "    <tr>\n",
       "      <th>2</th>\n",
       "      <td>1</td>\n",
       "      <td>2</td>\n",
       "      <td>1</td>\n",
       "      <td>0</td>\n",
       "    </tr>\n",
       "    <tr>\n",
       "      <th>3</th>\n",
       "      <td>1</td>\n",
       "      <td>0</td>\n",
       "      <td>3</td>\n",
       "      <td>2</td>\n",
       "    </tr>\n",
       "  </tbody>\n",
       "</table>\n",
       "</div>"
      ],
      "text/plain": [
       "   0  1  2  3\n",
       "0  0  1  2  0\n",
       "1  2  1  2  2\n",
       "2  1  2  1  0\n",
       "3  1  0  3  2"
      ]
     },
     "execution_count": 203,
     "metadata": {},
     "output_type": "execute_result"
    }
   ],
   "source": [
    "sel"
   ]
  },
  {
   "cell_type": "markdown",
   "metadata": {},
   "source": [
    "### Call function and make counting map"
   ]
  },
  {
   "cell_type": "code",
   "execution_count": 204,
   "metadata": {},
   "outputs": [],
   "source": [
    "selMap = select_xy_sectors_df(data, xb, yb)"
   ]
  },
  {
   "cell_type": "code",
   "execution_count": 205,
   "metadata": {},
   "outputs": [],
   "source": [
    "sel2 = nmap(selMap)"
   ]
  },
  {
   "cell_type": "markdown",
   "metadata": {},
   "source": [
    "### Compare data frames"
   ]
  },
  {
   "cell_type": "code",
   "execution_count": 206,
   "metadata": {},
   "outputs": [
    {
     "data": {
      "text/plain": [
       "True"
      ]
     },
     "execution_count": 206,
     "metadata": {},
     "output_type": "execute_result"
    }
   ],
   "source": [
    "data_frames_are_identical(sel, sel2)"
   ]
  },
  {
   "cell_type": "code",
   "execution_count": null,
   "metadata": {},
   "outputs": [],
   "source": []
  },
  {
   "cell_type": "markdown",
   "metadata": {},
   "source": [
    "## END"
   ]
  }
 ],
 "metadata": {
  "kernelspec": {
   "display_name": "Python 3",
   "language": "python",
   "name": "python3"
  },
  "language_info": {
   "codemirror_mode": {
    "name": "ipython",
    "version": 3
   },
   "file_extension": ".py",
   "mimetype": "text/x-python",
   "name": "python",
   "nbconvert_exporter": "python",
   "pygments_lexer": "ipython3",
   "version": "3.7.1"
  }
 },
 "nbformat": 4,
 "nbformat_minor": 2
}
