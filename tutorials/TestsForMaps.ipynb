{
 "cells": [
  {
   "cell_type": "markdown",
   "metadata": {},
   "source": [
    "# Tests for maps"
   ]
  },
  {
   "cell_type": "markdown",
   "metadata": {},
   "source": [
    "# Author JJGC"
   ]
  },
  {
   "cell_type": "markdown",
   "metadata": {},
   "source": [
    "## ilustration of tests for maps functions"
   ]
  },
  {
   "cell_type": "code",
   "execution_count": 1,
   "metadata": {},
   "outputs": [
    {
     "name": "stdout",
     "output_type": "stream",
     "text": [
      "Last updated on  Sat Feb  9 13:53:06 2019\n"
     ]
    }
   ],
   "source": [
    "%load_ext autoreload\n",
    "%autoreload 2\n",
    "import os\n",
    "import sys\n",
    "import time\n",
    "import warnings\n",
    "import datetime \n",
    "print(\"Last updated on \", time.asctime())"
   ]
  },
  {
   "cell_type": "markdown",
   "metadata": {},
   "source": [
    "### Notebook configuration"
   ]
  },
  {
   "cell_type": "code",
   "execution_count": 2,
   "metadata": {},
   "outputs": [],
   "source": [
    "%matplotlib inline\n",
    "import matplotlib.pyplot as plt\n",
    "\n",
    "plt.rcParams[\"figure.figsize\"] = 10, 8\n",
    "plt.rcParams[\"font.size\"     ] = 14"
   ]
  },
  {
   "cell_type": "code",
   "execution_count": 3,
   "metadata": {},
   "outputs": [],
   "source": [
    "import seaborn as sns\n",
    "import numpy as np\n",
    "import pandas as pd\n",
    "import matplotlib\n",
    "import tables            as tb\n",
    "import random\n",
    "import glob\n",
    "import warnings\n",
    "sns.set()"
   ]
  },
  {
   "cell_type": "code",
   "execution_count": 4,
   "metadata": {},
   "outputs": [],
   "source": [
    "from krcal.core.core_functions      import timeit"
   ]
  },
  {
   "cell_type": "code",
   "execution_count": 5,
   "metadata": {},
   "outputs": [],
   "source": [
    "from krcal.core.kr_types                 import KrEvent\n",
    "from krcal.core.analysis_functions       import kr_event\n",
    "from typing      import List, Tuple, Sequence, Iterable, Dict\n",
    "from   pandas.core.frame import DataFrame"
   ]
  },
  {
   "cell_type": "code",
   "execution_count": 6,
   "metadata": {},
   "outputs": [],
   "source": [
    "import logging\n",
    "log = logging.getLogger()"
   ]
  },
  {
   "cell_type": "code",
   "execution_count": 195,
   "metadata": {},
   "outputs": [],
   "source": [
    "from krcal.core.io_functions                 import filenames_from_list\n",
    "from krcal.core.kr_types                     import KrFileName\n",
    "from  invisible_cities.io.dst_io             import load_dsts\n",
    "from krcal.core.core_functions               import time_delta_from_time\n",
    "from krcal.core.analysis_functions           import kr_ranges_and_bins\n",
    "from krcal.core.analysis_functions           import select_xy_sectors\n",
    "from krcal.core.analysis_functions           import select_xy_sectors_df\n",
    "from krcal.core.analysis_functions           import event_map\n",
    "from   invisible_cities.core.core_functions  import in_range"
   ]
  },
  {
   "cell_type": "code",
   "execution_count": 8,
   "metadata": {},
   "outputs": [],
   "source": [
    "import cProfile"
   ]
  },
  {
   "cell_type": "markdown",
   "metadata": {},
   "source": [
    "## Select xy sectors"
   ]
  },
  {
   "cell_type": "code",
   "execution_count": 155,
   "metadata": {},
   "outputs": [],
   "source": [
    "def select_xy_sectors_df(dst        : DataFrame,\n",
    "                         bins_x     : np.array,\n",
    "                         bins_y     : np.array)-> Dict[int, List[DataFrame]]:\n",
    "    \"\"\"\n",
    "    Return a dict of selections organized by xy sector\n",
    "\n",
    "    Parameters\n",
    "    ----------\n",
    "        dst:\n",
    "        The input data frame.\n",
    "        bins_x:\n",
    "        An array of bins along x.\n",
    "        bins_y:\n",
    "        An array of bins along y.\n",
    "\n",
    "    Returns\n",
    "    -------\n",
    "        A map of selections defined as Dict[int, List[DataFrame]]\n",
    "        where for each x (the key in the dict) one has a list\n",
    "        (corresponding to y cells) of DataFrame (the events selected)\n",
    "\n",
    "    \"\"\"\n",
    "    RGES = {}\n",
    "    nbins_x = len(bins_x) -1\n",
    "    nbins_y = len(bins_y) -1\n",
    "    for i in range(nbins_x):\n",
    "        dstx = dst[in_range(dst.X, *bins_x[i: i+2])]\n",
    "        RGES[i] = [dstx[in_range(dstx.Y, *bins_y[j: j+2])] for j in range(nbins_y) ]\n",
    "\n",
    "    return RGES"
   ]
  },
  {
   "cell_type": "code",
   "execution_count": 196,
   "metadata": {},
   "outputs": [],
   "source": [
    "def x_and_y_ranges(data, xb, yb, nbx, nby):\n",
    "    r = True\n",
    "    for i in range(nbx):\n",
    "        dstx = data[in_range(data.X, *xb[i: i+2])]\n",
    "        r & in_range(dstx.X.values, xb[i: i+2][0], xb[i: i+2][1]).all()\n",
    "        for j in range(nby):\n",
    "            dsty = dstx[in_range(dstx.Y, *yb[j: j+2])]\n",
    "            r & in_range(dsty.Y.values, yb[j: j+2][0], yb[j: j+2][1]).all()\n",
    "    return r"
   ]
  },
  {
   "cell_type": "code",
   "execution_count": 197,
   "metadata": {},
   "outputs": [],
   "source": [
    "def nmap(RGES):\n",
    "    for i, ldst in RGES.items():\n",
    "        DLEN[i] =[len(dst) for dst in ldst]\n",
    "    return pd.DataFrame.from_dict(DLEN)\n"
   ]
  },
  {
   "cell_type": "code",
   "execution_count": 198,
   "metadata": {},
   "outputs": [],
   "source": [
    "def data_frames_are_identical(df1, df2):\n",
    "    df = df1 == df2 # the resulting df is a df of bools.\n",
    "    \n",
    "    # first all() gives a bool per column, creating a Series, seond all() gives a bool for the Series\n",
    "    return df.eq(True).all().all() "
   ]
  },
  {
   "cell_type": "markdown",
   "metadata": {},
   "source": [
    "## Prepare data"
   ]
  },
  {
   "cell_type": "code",
   "execution_count": 199,
   "metadata": {},
   "outputs": [
    {
     "name": "stdout",
     "output_type": "stream",
     "text": [
      "            X          Y\n",
      "0   55.914257  91.492164\n",
      "1   60.688878   9.388756\n",
      "2   10.691118  87.774070\n",
      "3   32.305945   8.373585\n",
      "4   41.942019  44.308992\n",
      "5   92.218698  32.553244\n",
      "6   41.502697  62.787282\n",
      "7   13.337421  73.843563\n",
      "8   99.247541  37.107046\n",
      "9   43.818671  50.486132\n",
      "10  88.302929  78.562866\n",
      "11  72.665090  84.361013\n",
      "12  67.921614   5.744892\n",
      "13  15.386671  32.529157\n",
      "14  67.510466  31.819258\n",
      "15  72.848560  99.712277\n",
      "16   7.163769  46.753639\n",
      "17  94.106824  98.864060\n",
      "18  67.512756  27.969804\n",
      "19  65.544423  64.272719\n"
     ]
    }
   ],
   "source": [
    "x = np.random.random(20) * 100\n",
    "y = np.random.random(20) * 100\n",
    "D = {}\n",
    "D['X'] = x\n",
    "D['Y'] = y\n",
    "data = pd.DataFrame.from_dict(D)\n",
    "print(data)"
   ]
  },
  {
   "cell_type": "markdown",
   "metadata": {},
   "source": [
    "### Define bins"
   ]
  },
  {
   "cell_type": "code",
   "execution_count": 200,
   "metadata": {},
   "outputs": [
    {
     "name": "stdout",
     "output_type": "stream",
     "text": [
      "xb, nbx = (array([  0,  25,  50,  75, 100]), 4)\n",
      "yb, nby = (array([  0,  25,  50,  75, 100]), 4)\n"
     ]
    }
   ],
   "source": [
    "xb = np.arange(0,101,25)\n",
    "yb = np.arange(0,101,25)\n",
    "nbx = len(xb) -1\n",
    "nby = len(yb) -1\n",
    "print(f'xb, nbx = {xb, nbx}')\n",
    "print(f'yb, nby = {yb, nby}')"
   ]
  },
  {
   "cell_type": "markdown",
   "metadata": {},
   "source": [
    "### Check ranges"
   ]
  },
  {
   "cell_type": "code",
   "execution_count": 201,
   "metadata": {},
   "outputs": [
    {
     "data": {
      "text/plain": [
       "True"
      ]
     },
     "execution_count": 201,
     "metadata": {},
     "output_type": "execute_result"
    }
   ],
   "source": [
    "x_and_y_ranges(data, xb, yb, nbx, nby)"
   ]
  },
  {
   "cell_type": "markdown",
   "metadata": {},
   "source": [
    "### Fill dict"
   ]
  },
  {
   "cell_type": "code",
   "execution_count": 202,
   "metadata": {},
   "outputs": [],
   "source": [
    "selDict = {}\n",
    "for i in range(nbx):\n",
    "    dstx = data[in_range(data.X, *xb[i: i+2])]\n",
    "    selDict[i] = [dstx[in_range(dstx.Y, *yb[j: j+2])] for j in range(nby) ]\n",
    "\n",
    "sel = nmap(selDict)"
   ]
  },
  {
   "cell_type": "code",
   "execution_count": 203,
   "metadata": {},
   "outputs": [
    {
     "data": {
      "text/html": [
       "<div>\n",
       "<style scoped>\n",
       "    .dataframe tbody tr th:only-of-type {\n",
       "        vertical-align: middle;\n",
       "    }\n",
       "\n",
       "    .dataframe tbody tr th {\n",
       "        vertical-align: top;\n",
       "    }\n",
       "\n",
       "    .dataframe thead th {\n",
       "        text-align: right;\n",
       "    }\n",
       "</style>\n",
       "<table border=\"1\" class=\"dataframe\">\n",
       "  <thead>\n",
       "    <tr style=\"text-align: right;\">\n",
       "      <th></th>\n",
       "      <th>0</th>\n",
       "      <th>1</th>\n",
       "      <th>2</th>\n",
       "      <th>3</th>\n",
       "    </tr>\n",
       "  </thead>\n",
       "  <tbody>\n",
       "    <tr>\n",
       "      <th>0</th>\n",
       "      <td>0</td>\n",
       "      <td>1</td>\n",
       "      <td>2</td>\n",
       "      <td>0</td>\n",
       "    </tr>\n",
       "    <tr>\n",
       "      <th>1</th>\n",
       "      <td>2</td>\n",
       "      <td>1</td>\n",
       "      <td>2</td>\n",
       "      <td>2</td>\n",
       "    </tr>\n",
       "    <tr>\n",
       "      <th>2</th>\n",
       "      <td>1</td>\n",
       "      <td>2</td>\n",
       "      <td>1</td>\n",
       "      <td>0</td>\n",
       "    </tr>\n",
       "    <tr>\n",
       "      <th>3</th>\n",
       "      <td>1</td>\n",
       "      <td>0</td>\n",
       "      <td>3</td>\n",
       "      <td>2</td>\n",
       "    </tr>\n",
       "  </tbody>\n",
       "</table>\n",
       "</div>"
      ],
      "text/plain": [
       "   0  1  2  3\n",
       "0  0  1  2  0\n",
       "1  2  1  2  2\n",
       "2  1  2  1  0\n",
       "3  1  0  3  2"
      ]
     },
     "execution_count": 203,
     "metadata": {},
     "output_type": "execute_result"
    }
   ],
   "source": [
    "sel"
   ]
  },
  {
   "cell_type": "markdown",
   "metadata": {},
   "source": [
    "### Call function and make counting map"
   ]
  },
  {
   "cell_type": "code",
   "execution_count": 204,
   "metadata": {},
   "outputs": [],
   "source": [
    "selMap = select_xy_sectors_df(data, xb, yb)"
   ]
  },
  {
   "cell_type": "code",
   "execution_count": 205,
   "metadata": {},
   "outputs": [],
   "source": [
    "sel2 = nmap(selMap)"
   ]
  },
  {
   "cell_type": "markdown",
   "metadata": {},
   "source": [
    "### Compare data frames"
   ]
  },
  {
   "cell_type": "code",
   "execution_count": 206,
   "metadata": {},
   "outputs": [
    {
     "data": {
      "text/plain": [
       "True"
      ]
     },
     "execution_count": 206,
     "metadata": {},
     "output_type": "execute_result"
    }
   ],
   "source": [
    "data_frames_are_identical(sel, sel2)"
   ]
  },
  {
   "cell_type": "code",
   "execution_count": null,
   "metadata": {},
   "outputs": [],
   "source": []
  },
  {
   "cell_type": "markdown",
   "metadata": {},
   "source": [
    "## END"
   ]
  }
 ],
 "metadata": {
  "kernelspec": {
   "display_name": "Python 3",
   "language": "python",
   "name": "python3"
  },
  "language_info": {
   "codemirror_mode": {
    "name": "ipython",
    "version": 3
   },
   "file_extension": ".py",
   "mimetype": "text/x-python",
   "name": "python",
   "nbconvert_exporter": "python",
   "pygments_lexer": "ipython3",
   "version": "3.7.1"
  }
 },
 "nbformat": 4,
 "nbformat_minor": 2
}
